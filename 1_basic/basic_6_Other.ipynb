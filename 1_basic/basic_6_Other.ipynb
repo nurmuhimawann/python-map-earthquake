{
 "cells": [
  {
   "cell_type": "markdown",
   "id": "c4109644-f251-446a-aa45-53230ec44add",
   "metadata": {},
   "source": [
    "# Variable Scope\n",
    "\n",
    "Scope mengacu pada bagian dari kode di mana suatu variabel dapat diakses. Dalam python utamanya terdapat tiga jenis scope:\n",
    "1. **Local Scope**\n",
    "2. **Global Scope**\n",
    "3. **Built-in Scope**\n",
    "\n",
    "penggunaan **built-in scope tidak direkomendasikan** karena dapat menyebabkan kebingungan atau ketidakkonsistenan program."
   ]
  },
  {
   "cell_type": "markdown",
   "id": "20ae77aa-09d8-4743-acbf-d38dfe8551d1",
   "metadata": {},
   "source": [
    "<h3>Local Scope</h3>\n",
    "\n",
    "Variabel yang dideklarasikan di dalam sebuah fungsi hanya dapat diakses di dalam fungsi tersebut. Ini disebut local scope. **Apabila mencoba mengakses variabel yang didefinisikan di dalam fungsi dari luar fungsi tersebut akan menyebabkan error** karena variable tersebut belum dideklarasikan pada scope blok kode dijalankan."
   ]
  },
  {
   "cell_type": "code",
   "execution_count": 8,
   "id": "1ee14303-4da6-438c-819a-9bb124f88fdb",
   "metadata": {},
   "outputs": [
    {
     "name": "stdout",
     "output_type": "stream",
     "text": [
      "Di dalam fungsi: 10\n",
      "local_var2 di dalam fungsi utama: 20\n",
      "local_var2 di dalam fungsi turunan: 20\n"
     ]
    }
   ],
   "source": [
    "def my_function():\n",
    "    local_var = 10\n",
    "    print(\"Di dalam fungsi:\", local_var)\n",
    "\n",
    "my_function()\n",
    "# print(local_var)  # Akan menghasilkan error karena local_var tidak dikenali di luar fungsi\n",
    "\n",
    "def my_function2():\n",
    "    local_var2 = 20\n",
    "    print(\"local_var2 di dalam fungsi utama:\", local_var2)\n",
    "    \n",
    "    def my_function3():\n",
    "        print(\"local_var2 di dalam fungsi turunan:\", local_var2)\n",
    "\n",
    "    my_function3()\n",
    "\n",
    "my_function2()"
   ]
  },
  {
   "cell_type": "markdown",
   "id": "9d7b9125-ee18-48a8-92ea-a1928d11f800",
   "metadata": {},
   "source": [
    "<h3>Global Scope</h3>\n",
    "\n",
    "Variabel yang dideklarasikan di luar semua fungsi atau blok kode adalah variabel global dan dapat diakses dari mana saja dalam kode. **Tetapi pendefinisian variable harus dilakukan sebelum pemanggilan fungsi agar tidak error.**"
   ]
  },
  {
   "cell_type": "code",
   "execution_count": 2,
   "id": "89b30c13-0a5c-4d7b-83a0-75874cf81575",
   "metadata": {},
   "outputs": [
    {
     "name": "stdout",
     "output_type": "stream",
     "text": [
      "global_var1 di dalam fungsi: 10\n",
      "global_var2 di dalam fungsi: 20\n"
     ]
    },
    {
     "ename": "NameError",
     "evalue": "name 'global_var3' is not defined",
     "output_type": "error",
     "traceback": [
      "\u001b[1;31m---------------------------------------------------------------------------\u001b[0m",
      "\u001b[1;31mNameError\u001b[0m                                 Traceback (most recent call last)",
      "Cell \u001b[1;32mIn[2], line 10\u001b[0m\n\u001b[0;32m      6\u001b[0m     \u001b[38;5;28mprint\u001b[39m(\u001b[38;5;124m\"\u001b[39m\u001b[38;5;124mglobal_var3 di dalam fungsi:\u001b[39m\u001b[38;5;124m\"\u001b[39m, global_var3)\n\u001b[0;32m      8\u001b[0m global_var2 \u001b[38;5;241m=\u001b[39m \u001b[38;5;241m20\u001b[39m\n\u001b[1;32m---> 10\u001b[0m \u001b[43mmy_function\u001b[49m\u001b[43m(\u001b[49m\u001b[43m)\u001b[49m\n\u001b[0;32m     12\u001b[0m global_var3 \u001b[38;5;241m=\u001b[39m \u001b[38;5;241m30\u001b[39m\n\u001b[0;32m     14\u001b[0m \u001b[38;5;28mprint\u001b[39m(\u001b[38;5;124m\"\u001b[39m\u001b[38;5;124mglobal_var1 di luar fungsi:\u001b[39m\u001b[38;5;124m\"\u001b[39m, global_var1)\n",
      "Cell \u001b[1;32mIn[2], line 6\u001b[0m, in \u001b[0;36mmy_function\u001b[1;34m()\u001b[0m\n\u001b[0;32m      4\u001b[0m \u001b[38;5;28mprint\u001b[39m(\u001b[38;5;124m\"\u001b[39m\u001b[38;5;124mglobal_var1 di dalam fungsi:\u001b[39m\u001b[38;5;124m\"\u001b[39m, global_var1)\n\u001b[0;32m      5\u001b[0m \u001b[38;5;28mprint\u001b[39m(\u001b[38;5;124m\"\u001b[39m\u001b[38;5;124mglobal_var2 di dalam fungsi:\u001b[39m\u001b[38;5;124m\"\u001b[39m, global_var2)\n\u001b[1;32m----> 6\u001b[0m \u001b[38;5;28mprint\u001b[39m(\u001b[38;5;124m\"\u001b[39m\u001b[38;5;124mglobal_var3 di dalam fungsi:\u001b[39m\u001b[38;5;124m\"\u001b[39m, \u001b[43mglobal_var3\u001b[49m)\n",
      "\u001b[1;31mNameError\u001b[0m: name 'global_var3' is not defined"
     ]
    }
   ],
   "source": [
    "global_var1 = 10\n",
    "\n",
    "def my_function():\n",
    "    print(\"global_var1 di dalam fungsi:\", global_var1)\n",
    "    print(\"global_var2 di dalam fungsi:\", global_var2)\n",
    "    print(\"global_var3 di dalam fungsi:\", global_var3)\n",
    "\n",
    "global_var2 = 20\n",
    "\n",
    "my_function()\n",
    "\n",
    "global_var3 = 30\n",
    "\n",
    "print(\"global_var1 di luar fungsi:\", global_var1)\n",
    "print(\"global_var2 di luar fungsi:\", global_var2)\n",
    "print(\"global_var3 di luar fungsi:\", global_var3)"
   ]
  },
  {
   "cell_type": "markdown",
   "id": "fe3d3962-5b69-491e-ae6e-60fb034745a0",
   "metadata": {},
   "source": [
    "# Pass by Value vs Pass by Reference\n",
    "\n",
    "Konsep **mutability** sangat berkaitan dengan cara Python menangani **pass by value** dan **pass by reference**. Python menggunakan model yang sering disebut pass by assignment atau pass by object reference. Ini berarti bahwa referensi objek (alamat memori) yang disimpan dalam variabel dikirim ke fungsi, bukan salinan nilai objek tersebut. Efeknya:\n",
    "\n",
    "1. **Objek Mutable:** Karena objek mutable (seperti list, dictionary, dan set) dapat diubah, **perubahan yang dilakukan dalam fungsi akan mempengaruhi objek asli.**\n",
    "2. **Objek Immutable:** Objek immutable (seperti string, tuple, dan numbers) tidak dapat diubah. Jika kita mencoba mengubah objek immutable dalam fungsi, Python akan membuat objek baru dan referensi **variabel asli tidak akan terpengaruh.**\n",
    "\n",
    "<h3>Contoh pada mutable</h3>"
   ]
  },
  {
   "cell_type": "code",
   "execution_count": 12,
   "id": "62f1e435-fa22-43df-97ec-e591e0503298",
   "metadata": {},
   "outputs": [
    {
     "name": "stdout",
     "output_type": "stream",
     "text": [
      "dari dalam fungsi [1, 2, 3, 4]\n",
      "[1, 2, 3, 4]\n"
     ]
    }
   ],
   "source": [
    "def modify_list(lst):\n",
    "    lst.append(4)\n",
    "    print(f\"dari dalam fungsi {lst}\")\n",
    "\n",
    "my_list = [1, 2, 3]\n",
    "modify_list(my_list)\n",
    "print(my_list)"
   ]
  },
  {
   "cell_type": "markdown",
   "id": "78d427f9-bb20-4b6f-a9d7-06fae22336a6",
   "metadata": {},
   "source": [
    "<h3>Contoh pada immutable</h3>"
   ]
  },
  {
   "cell_type": "code",
   "execution_count": 13,
   "id": "e064f2ce-1dff-4ab9-ad8e-c885b5c502eb",
   "metadata": {},
   "outputs": [
    {
     "name": "stdout",
     "output_type": "stream",
     "text": [
      "dari dalam fungsi Hello World\n",
      "Hello\n"
     ]
    }
   ],
   "source": [
    "def modify_string(s):\n",
    "    s = s + \" World\"\n",
    "    print(f\"dari dalam fungsi {s}\")\n",
    "\n",
    "my_string = \"Hello\"\n",
    "modify_string(my_string)\n",
    "print(my_string)  # Output: Hello"
   ]
  },
  {
   "cell_type": "code",
   "execution_count": null,
   "id": "3e7083b1-10a2-4aaa-9da3-de5ea55e8ec3",
   "metadata": {},
   "outputs": [],
   "source": []
  }
 ],
 "metadata": {
  "kernelspec": {
   "display_name": "Python 3 (ipykernel)",
   "language": "python",
   "name": "python3"
  },
  "language_info": {
   "codemirror_mode": {
    "name": "ipython",
    "version": 3
   },
   "file_extension": ".py",
   "mimetype": "text/x-python",
   "name": "python",
   "nbconvert_exporter": "python",
   "pygments_lexer": "ipython3",
   "version": "3.12.5"
  }
 },
 "nbformat": 4,
 "nbformat_minor": 5
}
