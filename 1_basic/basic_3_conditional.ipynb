{
 "cells": [
  {
   "cell_type": "markdown",
   "id": "28f072c0-a1a0-4f3b-b5b0-a3aa199b0f8a",
   "metadata": {},
   "source": [
    "# Conditional\n",
    "Kondisional adalah sebuah metode dimana kode akan mengecek apakah sebuah premis benar atau tidak. **Jika kondisi sesuai, maka kode dalam kondisional akan dijalankan.**"
   ]
  },
  {
   "cell_type": "code",
   "execution_count": 6,
   "id": "5c255d91-a69f-449e-9a2c-49bd6a59c296",
   "metadata": {},
   "outputs": [
    {
     "name": "stdout",
     "output_type": "stream",
     "text": [
      "Jalankan kode 1\n",
      "jalankan kode 2 A\n"
     ]
    }
   ],
   "source": [
    "if (True) :\n",
    "    print (\"Jalankan kode 1\")\n",
    "\n",
    "if (False) :\n",
    "    print (\"Jalankan kode 2\")\n",
    "\n",
    "print(\"jalankan kode 2 A\")\n",
    "\n",
    "x = 2\n",
    "if x == 3:\n",
    "    print (\"Jalankan kode 3\")\n",
    "    \n",
    "    "
   ]
  },
  {
   "cell_type": "markdown",
   "id": "116c92ed-4ddd-4abc-ad41-5bcb04a99ee9",
   "metadata": {},
   "source": [
    "<h3>Else If (elif)</h3>\n",
    "jika kondisi sebelumnya tidak terpenuhi maka check kondisi di dalam blok elif"
   ]
  },
  {
   "cell_type": "code",
   "execution_count": 4,
   "id": "5da35c37-3ca4-4552-8372-de1af3afa3db",
   "metadata": {},
   "outputs": [
    {
     "name": "stdout",
     "output_type": "stream",
     "text": [
      "a == b\n",
      "case elif = x < 15\n",
      "case if if = x < 15\n",
      "case if if = y > 15\n"
     ]
    }
   ],
   "source": [
    "a = 1\n",
    "b = 1\n",
    "if b > a:\n",
    "    print(\"b > a\")\n",
    "elif a == b:\n",
    "    print(\"a == b\")\n",
    "\n",
    "# Perbedaan Elif dengan 2 If yg berbeda\n",
    "x = 10\n",
    "y = 20\n",
    "\n",
    "if x < 15:\n",
    "    print(\"case elif = x < 15\")\n",
    "elif y > 15:\n",
    "    print(\"case elif = y > 15\")\n",
    "\n",
    "if x < 15:\n",
    "    print(\"case if if = x < 15\")\n",
    "    \n",
    "if y > 15:\n",
    "    print(\"case if if = y > 15\")"
   ]
  },
  {
   "cell_type": "markdown",
   "id": "a597c780-82bc-4a15-9e0b-e8c99cf607f9",
   "metadata": {},
   "source": [
    "# Else\n",
    "jika kondisi sebelumnya tidak ada yang terpenuhi maka kode dalam blok else akan dijalankan"
   ]
  },
  {
   "cell_type": "code",
   "execution_count": 5,
   "id": "a74ac115-c055-44bc-90e0-12b810e89b0f",
   "metadata": {},
   "outputs": [
    {
     "name": "stdout",
     "output_type": "stream",
     "text": [
      "a > b\n"
     ]
    }
   ],
   "source": [
    "a = 200\n",
    "b = 33\n",
    "if b > a:\n",
    "  print(\"b > a\")\n",
    "elif a == b:\n",
    "  print(\"a == b\")\n",
    "else:\n",
    "  print(\"a > b\")"
   ]
  },
  {
   "cell_type": "markdown",
   "id": "2e2d2e8e-9860-4b9b-acef-75b14b1bd846",
   "metadata": {},
   "source": [
    "# Nested Conditional\n",
    "Pada dasarnya blok kode akan dijalankan dari atas ke bawah, sehingga kondisional dapat berada di dalam kondisional."
   ]
  },
  {
   "cell_type": "code",
   "execution_count": 9,
   "id": "bd264c01-8c64-49a0-8a85-979142f1ca22",
   "metadata": {},
   "outputs": [
    {
     "name": "stdout",
     "output_type": "stream",
     "text": [
      "x > 10,\n",
      "and also x > 30\n"
     ]
    }
   ],
   "source": [
    "x = 40\n",
    "\n",
    "if x > 10:\n",
    "    print(\"x > 10,\")\n",
    "    if x > 30:\n",
    "        print(\"and also x > 30\")\n",
    "    else:\n",
    "        print(\"but X <= 30.\")\n",
    "else:\n",
    "    print(\"x <= 10\")"
   ]
  },
  {
   "cell_type": "markdown",
   "id": "e23d9c92-7c99-4915-9429-d863f702131d",
   "metadata": {},
   "source": [
    "# Exercise Conditional\n",
    "\n",
    "**Buatlah kondisional yang apabila diberikan input pada variable <span style=\"color:blue\">nama dan peran</span> akan memberikan hasil seperti di bawah ini**\n",
    "\n",
    "Output untuk Input **nama = ''** dan **peran = ''** <br>\n",
    "\"Nama harus diisi!\"\n",
    "\n",
    "Output untuk Input **nama = 'Mikael'** dan **peran = ''** <br>\n",
    "\"Halo Mikael, Pilih peranmu untuk memulai game!\"\n",
    "\n",
    "Output untuk Input **nama = 'Nina'** dan **peran 'Ksatria'** <br>\n",
    "\"Selamat datang di Dunia Isekai, Nina\"\n",
    "\"Halo Ksatria Nina, kamu dapat menyerang dengan senjatamu!\"\n",
    "\n",
    "Output untuk Input **nama = 'Danu'** dan **peran 'Tabib'** <br>\n",
    "\"Selamat datang di Dunia Isekai, Danu\"\n",
    "\"Halo Tabib Danu, kamu akan membantu temanmu yang terluka.\""
   ]
  },
  {
   "cell_type": "code",
   "execution_count": 14,
   "id": "f503c61f-e43c-4bee-a260-e27476702cec",
   "metadata": {},
   "outputs": [
    {
     "name": "stdout",
     "output_type": "stream",
     "text": [
      "Selamat datang di Dunia Isekai, Danu\n",
      "Halo Ksatria Danu, kamu dapat menyerang dengan senjatamu!\n"
     ]
    }
   ],
   "source": [
    "nama = \"Danu\"\n",
    "peran = \"Ksatria\"\n",
    "\n",
    "if (nama == \"\" and peran ==\"\"):\n",
    "    print(\"Nama harus diisi!\")\n",
    "elif (nama != \"\" and peran ==\"\"):\n",
    "    print(f\"Halo {nama}, Pilih peranmu untuk memulai game!\")\n",
    "elif (nama != \"\" and peran !=\"\"):\n",
    "    print(f\"Selamat datang di Dunia Isekai, {nama}\")\n",
    "    if (peran == \"Ksatria\"):\n",
    "        print(f\"Halo Ksatria {nama}, kamu dapat menyerang dengan senjatamu!\")\n",
    "    elif (peran == \"Tabib\"):\n",
    "        print(f\"Halo Tabib {nama}, kamu akan membantu temanmu yang terluka.\")\n",
    "    "
   ]
  },
  {
   "cell_type": "code",
   "execution_count": null,
   "id": "cdc36a09-747a-400c-87c5-a9ce08a9ce12",
   "metadata": {},
   "outputs": [],
   "source": []
  }
 ],
 "metadata": {
  "kernelspec": {
   "display_name": "Python 3 (ipykernel)",
   "language": "python",
   "name": "python3"
  },
  "language_info": {
   "codemirror_mode": {
    "name": "ipython",
    "version": 3
   },
   "file_extension": ".py",
   "mimetype": "text/x-python",
   "name": "python",
   "nbconvert_exporter": "python",
   "pygments_lexer": "ipython3",
   "version": "3.12.5"
  }
 },
 "nbformat": 4,
 "nbformat_minor": 5
}
