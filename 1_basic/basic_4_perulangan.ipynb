{
 "cells": [
  {
   "cell_type": "markdown",
   "id": "da6d8512-ed45-4980-92b1-40ba44312c1e",
   "metadata": {},
   "source": [
    "# Perulangan\n",
    "perulangan digunakan untuk melakukan iterasi data berbentuk sekuen atau array (list, tuple, set, dictionary, string). Terdapat 2 jenis perulangan yang ada di dalam python yaitu:\n",
    "1. **for** : untuk mengiterasi data yang diberikan\n",
    "2. **while** : mengiterasi sampai kondisi tidak terpenuhi"
   ]
  },
  {
   "cell_type": "code",
   "execution_count": 3,
   "id": "4a259c03-048a-4a29-89ca-304182958c18",
   "metadata": {},
   "outputs": [
    {
     "name": "stdout",
     "output_type": "stream",
     "text": [
      "akses langsung data 3\n",
      "akses langsung data 2\n",
      "akses langsung data 3\n",
      "akses langsung data 1\n",
      "akses langsung data 4\n",
      "data indeks ke 0 = 3\n",
      "data indeks ke 1 = 2\n",
      "data indeks ke 2 = 3\n",
      "data indeks ke 3 = 1\n",
      "data indeks ke 4 = 4\n",
      "[5, 4, 3, 2, 1]\n",
      "Jumlah saat ini: 5\n",
      "Jumlah saat ini: 9\n",
      "Jumlah saat ini: 12\n",
      "Jumlah saat ini: 14\n",
      "Jumlah saat ini: 15\n"
     ]
    }
   ],
   "source": [
    "numbers = [3,2,3,1,4]\n",
    "for num in numbers:\n",
    "  print(f\"akses langsung data {num}\")\n",
    "\n",
    "\n",
    "for x in range(len(numbers)):\n",
    "  print(f\"data indeks ke {x} = {numbers[x]}\")\n",
    "\n",
    "# range(start,stop,step)\n",
    "print(list(range(5, 0, -1)))\n",
    "jumlah = 0\n",
    "for deret in range(5, 0, -1):\n",
    "    jumlah += deret\n",
    "    print(f'Jumlah saat ini: {jumlah}')\n"
   ]
  },
  {
   "cell_type": "markdown",
   "id": "e58def80-56ce-4c06-a4e2-80b941d607c1",
   "metadata": {},
   "source": [
    "# Statement Break\n",
    "break digunakan untuk **keluar dari iterasi** meskipun data masih tersedia (for) ataupun kondisi perulangan masih terpenuhi (while)"
   ]
  },
  {
   "cell_type": "code",
   "execution_count": 5,
   "id": "b358016d-51bf-4b34-8685-63b92a3b8469",
   "metadata": {},
   "outputs": [
    {
     "name": "stdout",
     "output_type": "stream",
     "text": [
      "=============\n",
      "1\n",
      "=============\n",
      "2\n",
      "=============\n",
      "3\n",
      "=============\n"
     ]
    }
   ],
   "source": [
    "numbers = [1,2,3,4,5]\n",
    "for x in numbers:\n",
    "    print(\"=============\")\n",
    "    if x > 3:\n",
    "        break\n",
    "    print(x) \n"
   ]
  },
  {
   "cell_type": "markdown",
   "id": "e1b6fe31-8840-41fd-97b4-ca3f402b6555",
   "metadata": {},
   "source": [
    "# Statement Continue\n",
    "continue digunakan untuk **melanjutkan ke iterasi selanjutnya dan mengabaikan kode di bawahnya**"
   ]
  },
  {
   "cell_type": "code",
   "execution_count": 5,
   "id": "90563b7e-bbd6-4461-8186-1b3104af4a9b",
   "metadata": {},
   "outputs": [
    {
     "name": "stdout",
     "output_type": "stream",
     "text": [
      "=============\n",
      "1\n",
      "=============\n",
      "=============\n",
      "=============\n",
      "4\n",
      "=============\n",
      "5\n"
     ]
    }
   ],
   "source": [
    "numbers = [1,2,3,4,5]\n",
    "for x in numbers:\n",
    "    print(\"=============\")\n",
    "    if x == 2 or x == 3:\n",
    "        continue\n",
    "    print(x) "
   ]
  },
  {
   "cell_type": "markdown",
   "id": "111fbb26-3242-4b64-bc56-3d7409d25493",
   "metadata": {},
   "source": [
    "# Nested Loop"
   ]
  },
  {
   "cell_type": "code",
   "execution_count": 9,
   "id": "fd24d11b-3539-43b1-8a63-2a5e8914ceb2",
   "metadata": {},
   "outputs": [
    {
     "name": "stdout",
     "output_type": "stream",
     "text": [
      "sweet apple\n",
      "sweet banana\n",
      "sweet cherry\n",
      "big apple\n",
      "big banana\n",
      "big cherry\n",
      "tasty apple\n",
      "tasty banana\n",
      "tasty cherry\n"
     ]
    }
   ],
   "source": [
    "adj = [\"sweet\", \"big\", \"tasty\"]\n",
    "fruits = [\"apple\", \"banana\", \"cherry\"]\n",
    "\n",
    "for x in adj:\n",
    "  for y in fruits:\n",
    "    print(x, y)"
   ]
  },
  {
   "cell_type": "markdown",
   "id": "b24c7b82-977f-4866-a805-2ae564519d31",
   "metadata": {},
   "source": [
    "# While Loop\n",
    "while merupakan perulangan yang dilakukan sampai kondisi perulangannya tidak terpenuhi. Jika tidak diupdate dengan tepat, while bisa terperangkap dalam infinite loop atau perulangan yang tidak akan berakhir yang membuat code di bawahnya tidak dijalankan"
   ]
  },
  {
   "cell_type": "code",
   "execution_count": 12,
   "id": "82528009-8620-4d81-b56c-fbf6e00fa84d",
   "metadata": {},
   "outputs": [
    {
     "name": "stdout",
     "output_type": "stream",
     "text": [
      "1\n",
      "2\n",
      "3\n",
      "4\n",
      "5\n",
      "while 1\n",
      "while 2\n",
      "while 3\n"
     ]
    }
   ],
   "source": [
    "i = 1\n",
    "while i < 6:\n",
    "  print(i)\n",
    "  i = i + 1\n",
    "\n",
    "\n",
    "i = 1\n",
    "while i < 6:\n",
    "  print(f\"while {i}\")\n",
    "  if i == 3:\n",
    "    break\n",
    "  i += 1"
   ]
  },
  {
   "cell_type": "markdown",
   "id": "1923c833-9f63-42f1-b9ce-4348fbaa3f0e",
   "metadata": {},
   "source": [
    "# Exercise Perulangan 1\n",
    "buatlah persegi menggunakan asterik(*), dengan panjang sisinya bergantung kepada variable **sisi**\n",
    "\n",
    "Contoh :<br>\n",
    "sisi = 2 <br>\n",
    "** <br>\n",
    "**\n",
    "\n",
    "sisi = 3 <br>\n",
    "\\*** <br>\n",
    "\\*** <br>\n",
    "\\*** <br>"
   ]
  },
  {
   "cell_type": "code",
   "execution_count": 9,
   "id": "8209e4b5-5c64-4b34-bde1-5cd75e5cd008",
   "metadata": {},
   "outputs": [
    {
     "name": "stdout",
     "output_type": "stream",
     "text": [
      "*****\n",
      "*****\n",
      "*****\n",
      "*****\n",
      "*****\n"
     ]
    }
   ],
   "source": [
    "sisi = 5\n",
    "for i in range(sisi):\n",
    "    constant = \"\"\n",
    "    for j in range(sisi):\n",
    "        constant = f\"{constant}*\"\n",
    "    print(constant)\n"
   ]
  },
  {
   "cell_type": "markdown",
   "id": "3ac92c2e-7242-4fd3-a0fe-93ac89b0c7d4",
   "metadata": {},
   "source": [
    "# Exercise Perulangan 2\n",
    "Buatlah tangga menggunakan asterik(*), yang tingginya akan bergantung kepada variable **baris** ,setiap baris memiliki jumlah simbol '*' sesuai dengan nomor baris\n",
    "\n",
    "Contoh :<br>\n",
    "sisi = 3 <br>\n",
    "\\* <br>\n",
    "\\** <br>\n",
    "\\***"
   ]
  },
  {
   "cell_type": "code",
   "execution_count": 11,
   "id": "8629e1d5-7ffd-450b-83f7-11786e863154",
   "metadata": {},
   "outputs": [
    {
     "name": "stdout",
     "output_type": "stream",
     "text": [
      "\n",
      "*\n",
      "**\n",
      "***\n",
      "****\n",
      "*****\n"
     ]
    }
   ],
   "source": [
    "sisi = 6\n",
    "for i in range(sisi):\n",
    "    constant = \"\"\n",
    "    for j in range(i):\n",
    "        constant = f\"{constant}*\"\n",
    "    print(constant)"
   ]
  },
  {
   "cell_type": "code",
   "execution_count": 16,
   "id": "e926946b-2438-4a66-9368-ef50af553198",
   "metadata": {},
   "outputs": [
    {
     "name": "stdout",
     "output_type": "stream",
     "text": [
      "halo nama saya = ardi, umur saya 28\n",
      "halo nama saya = alam, umur saya 30\n"
     ]
    }
   ],
   "source": [
    "datas = [\n",
    "    {\"nama\":\"ardi\",\"umur\":28},\n",
    "    {\"nama\":\"alam\",\"umur\":30}\n",
    "]\n",
    "\n",
    "for a in datas:\n",
    "    print(f\"halo nama saya = {a['nama']}, umur saya {a['umur']}\")"
   ]
  },
  {
   "cell_type": "code",
   "execution_count": null,
   "id": "eb676347-11ab-4ef7-a7d6-a4ad6d70a363",
   "metadata": {},
   "outputs": [],
   "source": []
  }
 ],
 "metadata": {
  "kernelspec": {
   "display_name": "Python 3 (ipykernel)",
   "language": "python",
   "name": "python3"
  },
  "language_info": {
   "codemirror_mode": {
    "name": "ipython",
    "version": 3
   },
   "file_extension": ".py",
   "mimetype": "text/x-python",
   "name": "python",
   "nbconvert_exporter": "python",
   "pygments_lexer": "ipython3",
   "version": "3.12.5"
  }
 },
 "nbformat": 4,
 "nbformat_minor": 5
}
