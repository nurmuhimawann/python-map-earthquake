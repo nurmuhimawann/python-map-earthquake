{
 "cells": [
  {
   "cell_type": "markdown",
   "id": "28d54cd4-2354-408c-9457-0ca14f8d4654",
   "metadata": {},
   "source": [
    "# PYTHON SYNTAX\n",
    "Sintaks (syntax) adalah aturan-aturan terkait bagaimana cara menulis code agar bisa dimengerti oleh interpreter python.\n",
    "\n",
    "1. **Code akan di baca dari kiri ke kanan**\n",
    "2. **Dari pemanggilan yang terdalam ke luar (method atau fungsi)**\n",
    "3. **Kemudian dari atas ke bawah**\n",
    "4. **Satu blok harus memiliki identasi (tab atau spasi) yang sama**\n",
    "5. **Python akan megabaikan tulisan yang diawali # atau \"\"\", ini berguna sebagai comment atau penjelasan code**"
   ]
  },
  {
   "cell_type": "code",
   "execution_count": 6,
   "id": "42fbcb7c-44b4-490f-bafe-0b62090a9e04",
   "metadata": {},
   "outputs": [
    {
     "name": "stdout",
     "output_type": "stream",
     "text": [
      "hello\n",
      "2\n",
      "aan\n"
     ]
    }
   ],
   "source": [
    "a = \"hello\"\n",
    "print(a)\n",
    "print(2)\n",
    "c = 'aan'\n",
    "print(c)"
   ]
  },
  {
   "cell_type": "markdown",
   "id": "22538696-28c6-45e6-9200-c8b3cf3cf396",
   "metadata": {},
   "source": [
    "<h3>NOTE : code di bawah ini akan error karena kita mencoba mengakses b, ketika nilai b belum dideklrasikan</h3>"
   ]
  },
  {
   "cell_type": "code",
   "execution_count": 2,
   "id": "31e99f37-81a0-4cd3-bb88-f1867bd62084",
   "metadata": {},
   "outputs": [
    {
     "ename": "NameError",
     "evalue": "name 'b' is not defined",
     "output_type": "error",
     "traceback": [
      "\u001b[1;31m---------------------------------------------------------------------------\u001b[0m",
      "\u001b[1;31mNameError\u001b[0m                                 Traceback (most recent call last)",
      "Cell \u001b[1;32mIn[2], line 1\u001b[0m\n\u001b[1;32m----> 1\u001b[0m \u001b[38;5;28mprint\u001b[39m(\u001b[43mb\u001b[49m)\n\u001b[0;32m      2\u001b[0m b \u001b[38;5;241m=\u001b[39m \u001b[38;5;241m1\u001b[39m\n",
      "\u001b[1;31mNameError\u001b[0m: name 'b' is not defined"
     ]
    }
   ],
   "source": [
    "print(b)\n",
    "b = 1"
   ]
  },
  {
   "cell_type": "markdown",
   "id": "5b2bb5d3-83da-4c3a-b1d5-c65c268941f9",
   "metadata": {},
   "source": [
    "<h3>NOTE : code di bawah ini akan error karena satu blok kode berbeda identasinya</h3>"
   ]
  },
  {
   "cell_type": "code",
   "execution_count": 8,
   "id": "1da82ba1-e5b4-46e3-bf98-5590bb5e50d3",
   "metadata": {},
   "outputs": [
    {
     "ename": "IndentationError",
     "evalue": "unexpected indent (2103471568.py, line 2)",
     "output_type": "error",
     "traceback": [
      "\u001b[1;36m  Cell \u001b[1;32mIn[8], line 2\u001b[1;36m\u001b[0m\n\u001b[1;33m    b = 2\u001b[0m\n\u001b[1;37m    ^\u001b[0m\n\u001b[1;31mIndentationError\u001b[0m\u001b[1;31m:\u001b[0m unexpected indent\n"
     ]
    }
   ],
   "source": [
    "a = 1\n",
    " b = 2"
   ]
  },
  {
   "cell_type": "markdown",
   "id": "26762d9d-5028-473b-a005-73792b6ad9fd",
   "metadata": {},
   "source": [
    "<h3>NOTE : satu blok di python adalah dalam satu percabangan, looping, atau fungsi yang sama</h3>"
   ]
  },
  {
   "cell_type": "code",
   "execution_count": 11,
   "id": "510a3da0-0c92-437a-b765-94fda85ebb4e",
   "metadata": {},
   "outputs": [
    {
     "name": "stdout",
     "output_type": "stream",
     "text": [
      "Contoh berhasil 1\n",
      "Contoh berhasil 2\n",
      "contoh berhasil 3\n",
      "contoh berhasil 4\n"
     ]
    }
   ],
   "source": [
    "if 2 > 1:\n",
    "  print(\"Contoh berhasil 1\")\n",
    "    \n",
    "if 2 > 1:\n",
    "        print(\"Contoh berhasil 2\") \n",
    "\n",
    "def test_python_blok():\n",
    "    if 2 > 1:\n",
    "        print(\"contoh berhasil 3\")\n",
    "        for i in range(5):\n",
    "            if i > 3:\n",
    "                print(f\"contoh berhasil {i}\")\n",
    "    \n",
    "test_python_blok()\n"
   ]
  },
  {
   "cell_type": "markdown",
   "id": "313b6ed1-402c-4851-99e2-317754ad16e0",
   "metadata": {},
   "source": [
    "<h3>Berikut ini contoh membuat comment di dalam code</h3>"
   ]
  },
  {
   "cell_type": "code",
   "execution_count": 14,
   "id": "ecb6dac0-16b6-480f-a6a2-5d8d5d5ed94b",
   "metadata": {},
   "outputs": [
    {
     "name": "stdout",
     "output_type": "stream",
     "text": [
      "contoh bukan comment 1\n",
      "contoh bukan comment 2\n"
     ]
    }
   ],
   "source": [
    "# print('contoh comment 1')\n",
    "print ('contoh bukan comment 1')\n",
    "\n",
    "\"\"\"\n",
    "print('contoh comment 2')\n",
    "print('contoh comment 3')\n",
    "\"\"\"\n",
    "print ('contoh bukan comment 2')"
   ]
  },
  {
   "cell_type": "code",
   "execution_count": null,
   "id": "9c5e5732-c9a1-4b00-939b-222f58cdc12c",
   "metadata": {},
   "outputs": [],
   "source": []
  }
 ],
 "metadata": {
  "kernelspec": {
   "display_name": "Python 3 (ipykernel)",
   "language": "python",
   "name": "python3"
  },
  "language_info": {
   "codemirror_mode": {
    "name": "ipython",
    "version": 3
   },
   "file_extension": ".py",
   "mimetype": "text/x-python",
   "name": "python",
   "nbconvert_exporter": "python",
   "pygments_lexer": "ipython3",
   "version": "3.12.5"
  }
 },
 "nbformat": 4,
 "nbformat_minor": 5
}
