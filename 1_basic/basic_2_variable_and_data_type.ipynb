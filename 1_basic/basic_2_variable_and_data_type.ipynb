{
 "cells": [
  {
   "cell_type": "markdown",
   "id": "a0260350-ed3d-4b72-b262-85a4b5572603",
   "metadata": {},
   "source": [
    "# Variable\n",
    "Variable berfungsi untuk menyimpan value. Tujuan dari menyimpan value tersebut adalah: \n",
    "1. **Jika ingin melakukan perubahan cukup dilakukan di satu tempat (tidak perlu mencari2 di banyak tempat)**\n",
    "2. **Value yang digunakan konsisten di setiap bagian code**\n",
    "3. **Value yang digunakan bisa diupdate tergantung terhadap logic yang ingin diterapkan**"
   ]
  },
  {
   "cell_type": "code",
   "execution_count": 2,
   "id": "2373ae2f-6fb2-4b5c-aec2-090d7b61944a",
   "metadata": {},
   "outputs": [
    {
     "name": "stdout",
     "output_type": "stream",
     "text": [
      "123\n",
      "<class 'int'>\n",
      "123\n",
      "<class 'str'>\n",
      "124\n"
     ]
    },
    {
     "ename": "TypeError",
     "evalue": "can only concatenate str (not \"int\") to str",
     "output_type": "error",
     "traceback": [
      "\u001b[1;31m---------------------------------------------------------------------------\u001b[0m",
      "\u001b[1;31mTypeError\u001b[0m                                 Traceback (most recent call last)",
      "Cell \u001b[1;32mIn[2], line 9\u001b[0m\n\u001b[0;32m      6\u001b[0m \u001b[38;5;28mprint\u001b[39m(\u001b[38;5;28mtype\u001b[39m(y))\n\u001b[0;32m      8\u001b[0m \u001b[38;5;28mprint\u001b[39m(x\u001b[38;5;241m+\u001b[39m\u001b[38;5;241m1\u001b[39m)\n\u001b[1;32m----> 9\u001b[0m \u001b[38;5;28mprint\u001b[39m(\u001b[43my\u001b[49m\u001b[38;5;241;43m+\u001b[39;49m\u001b[38;5;241;43m1\u001b[39;49m)\n",
      "\u001b[1;31mTypeError\u001b[0m: can only concatenate str (not \"int\") to str"
     ]
    }
   ],
   "source": [
    "x = 123\n",
    "y = \"123\"\n",
    "print(x)\n",
    "print(type(x))\n",
    "print(y)\n",
    "print(type(y))\n",
    "\n",
    "print(x+1)\n",
    "print(y+1)"
   ]
  },
  {
   "cell_type": "markdown",
   "id": "e32caf5c-5870-4f82-9c02-594c9a897fda",
   "metadata": {},
   "source": [
    "# Aturan Penulisan Nama Variable\n",
    "Penulisan nama variable yang valid harus mengikuti beberapa aturan berikut ini:\n",
    "1. **Nama variable harus dimulai dengan huruf atau underscore**\n",
    "2. **Nama variable tidak bisa dimulai dengan angka**\n",
    "3. **Nama variable hanya bisa mengandung alphanumeric dan underscore (A-z, 0-9, and _ )**\n",
    "4. **Nama variable itu case-sensitive (age, Age dan AGE adalah tiga variable yang berbeda)**\n",
    "5. **Nama variable bukan keyword yang sudah dibooking oleh python (https://www.geeksforgeeks.org/python-keywords).**"
   ]
  },
  {
   "cell_type": "code",
   "execution_count": null,
   "id": "eeb12dc3-6f8d-49d4-8001-8eaf78e37417",
   "metadata": {},
   "outputs": [],
   "source": [
    "myvar = \"test1\"\n",
    "my_var = \"test2\"\n",
    "_my_var = \"test3\"\n",
    "myVar = \"test4\"\n",
    "MYVAR = \"test5\"\n",
    "myvar2 = \"test6\"\n",
    "\n",
    "print(myvar)\n",
    "print(my_var)\n",
    "print(_my_var)\n",
    "print(myVar)\n",
    "print(MYVAR)\n",
    "print(myvar2)"
   ]
  },
  {
   "cell_type": "code",
   "execution_count": null,
   "id": "2faa53f0-1c3c-42a5-b4a3-3b86ae871996",
   "metadata": {},
   "outputs": [],
   "source": [
    "#2myvar = \"error1\"\n",
    "#my-var = \"erro2\"\n",
    "#my var = \"error3\"\n",
    "my@var = \"error4\""
   ]
  },
  {
   "cell_type": "markdown",
   "id": "8a75ad2d-0193-4269-8c5e-5edf05c361f9",
   "metadata": {},
   "source": [
    "# Tipe Data\n",
    "Setiap variable bisa menyimpan satu tipe data. Tiap tipe data tersebut akan memiliki perilaku atau metode yang berbeda-beda. Berikut adalah tipe data yang umum digunakan dalam pemrograman di python:\n",
    "\n",
    "1. Text Type     : **str**\n",
    "2. Numeric Types : **int, float, complex**\n",
    "3. Sequence Types: **list, tuple, range**\n",
    "4. Mapping Type  : **dict**\n",
    "5. Set Types     : **set**\n",
    "6. Boolean Type  : **bool**\n",
    "7. None Type     : **NoneType**"
   ]
  },
  {
   "cell_type": "code",
   "execution_count": 18,
   "id": "458189f7-3bb0-4fbd-ac5d-916802bc0dcd",
   "metadata": {},
   "outputs": [
    {
     "name": "stdout",
     "output_type": "stream",
     "text": [
      "['apple', 'orange', 'cherry']\n",
      "['John', 3]\n"
     ]
    }
   ],
   "source": [
    "#string\n",
    "x = \"Hello World\"\n",
    "\n",
    "#int\n",
    "x = 20 \t\n",
    "\n",
    "#float\t\n",
    "x = 20.5 \n",
    "\n",
    "#complex\n",
    "x = 1+1j \t\n",
    "\n",
    "#list\n",
    "a= \"apple\"\n",
    "x = [a, \"banana\", \"cherry\"]\t\n",
    "x[1] = 'orange'\n",
    "print(x)\n",
    "#tuple\n",
    "x = (\"apple\", \"banana\", \"cherry\")\t\t\n",
    "\n",
    "#range\n",
    "x = range(6)\t\n",
    "\n",
    "#dict\n",
    "x = {\"name\" : \"John\", \"age\" : 36, 'ppv_sni':3}\n",
    "y = [x[\"name\"],x[\"ppv_sni\"]]\n",
    "print(y)\n",
    "\n",
    "#set\n",
    "x = {\"apple\", \"banana\", \"cherry\"}\t\n",
    "\n",
    "#boolean\n",
    "x = True\t\n",
    "\n",
    "#NoneType\n",
    "x = None\t"
   ]
  },
  {
   "cell_type": "markdown",
   "id": "fc5a10aa-4d35-493a-b5f6-850df947ecff",
   "metadata": {},
   "source": [
    "# Merubah Tipe data\n",
    "mengubah tipe data variable kita bisa memasukannya kedalam fungsi casting berikut:\n",
    "1. **int()**: mengubah tipe data ke integer.\n",
    "2. **float()**: mengubah tipe data ke float.\n",
    "3. **complex()**: mengubah tipe data ke complex.\n",
    "4. **bool()**: mengubah tipe data ke boolean.\n",
    "5. **str()**: mengubah tipe data ke string."
   ]
  },
  {
   "cell_type": "code",
   "execution_count": null,
   "id": "0bcefbc1-79a0-44bd-a095-4e297e64c548",
   "metadata": {},
   "outputs": [],
   "source": [
    "x = int(1)\n",
    "y = int(2.8)\n",
    "z = int(\"3\")\n",
    "print(x)\n",
    "print(y)\n",
    "print(z)"
   ]
  },
  {
   "cell_type": "markdown",
   "id": "49618c6a-53b6-48aa-8da3-f8a56bd128d1",
   "metadata": {},
   "source": [
    "# Tipe Data Number\n",
    "Tipe data number bisa dilakukan berbagai operasi matematika\n",
    "1. **penjumlahan (\\+)**\t\n",
    "2. **pengurangan (\\-)**\t\n",
    "3. **perkalian (\\*)**\t\n",
    "4. **pembagian (\\/)**\n",
    "5. **modulus (\\%)**\n",
    "6. **pangkat (\\**)**\n",
    "7. **pembagian floor (//)**"
   ]
  },
  {
   "cell_type": "code",
   "execution_count": null,
   "id": "f5b5e5ba-e67f-4baf-8309-1914e3e9cbca",
   "metadata": {},
   "outputs": [],
   "source": [
    "a = 1\n",
    "b = 2.5\n",
    "print(a + b)"
   ]
  },
  {
   "cell_type": "markdown",
   "id": "215c01cc-c013-4777-972c-97d820c61c31",
   "metadata": {},
   "source": [
    "# Tipe Data String\n",
    "string pada dasarnya adalah array sehingga kita bisa mengaksesnya menggunakan indexing"
   ]
  },
  {
   "cell_type": "code",
   "execution_count": 21,
   "id": "e9903276-49cd-457d-b9dc-b834781a59f8",
   "metadata": {},
   "outputs": [
    {
     "name": "stdout",
     "output_type": "stream",
     "text": [
      "H\n",
      "l\n",
      "llo\n",
      "Hello\n",
      "llo, World!\n",
      "Hello, Worl\n"
     ]
    },
    {
     "ename": "TypeError",
     "evalue": "'str' object does not support item assignment",
     "output_type": "error",
     "traceback": [
      "\u001b[1;31m---------------------------------------------------------------------------\u001b[0m",
      "\u001b[1;31mTypeError\u001b[0m                                 Traceback (most recent call last)",
      "Cell \u001b[1;32mIn[21], line 8\u001b[0m\n\u001b[0;32m      6\u001b[0m \u001b[38;5;28mprint\u001b[39m(x[\u001b[38;5;241m2\u001b[39m:])\n\u001b[0;32m      7\u001b[0m \u001b[38;5;28mprint\u001b[39m(x[:\u001b[38;5;241m-\u001b[39m\u001b[38;5;241m2\u001b[39m])\n\u001b[1;32m----> 8\u001b[0m \u001b[43mx\u001b[49m\u001b[43m[\u001b[49m\u001b[38;5;241;43m0\u001b[39;49m\u001b[43m]\u001b[49m\u001b[38;5;241m=\u001b[39m \u001b[38;5;124m\"\u001b[39m\u001b[38;5;124mh\u001b[39m\u001b[38;5;124m\"\u001b[39m\n\u001b[0;32m      9\u001b[0m \u001b[38;5;28mprint\u001b[39m(x)\n",
      "\u001b[1;31mTypeError\u001b[0m: 'str' object does not support item assignment"
     ]
    }
   ],
   "source": [
    "x = \"Hello, World!\"\n",
    "print(x[0])\n",
    "print(x[2])\n",
    "print(x[2:5])\n",
    "print(x[:5])\n",
    "print(x[2:])\n",
    "print(x[:-2])"
   ]
  },
  {
   "cell_type": "markdown",
   "id": "2ed383a6-0196-4a37-ad9e-4ef27cb2cc51",
   "metadata": {},
   "source": [
    "<h3> String method dapat digunakan untuk memanipulasi string atau fungsionalitas tertentu </h3>\n",
    "\n",
    "daftar string method yang bisa digunakan ( https://www.geeksforgeeks.org/python-string-methods/ )"
   ]
  },
  {
   "cell_type": "code",
   "execution_count": 27,
   "id": "3bf7c06e-2286-4fd6-a51b-226263d607f0",
   "metadata": {},
   "outputs": [
    {
     "name": "stdout",
     "output_type": "stream",
     "text": [
      "Hello, World!\n",
      "hello, world!\n",
      "True\n",
      "['Hello,', 'World!']\n",
      "['Hell', ', W', 'rld!']\n",
      "7\n",
      "-1\n",
      "7\n",
      "-1\n"
     ]
    }
   ],
   "source": [
    "x = \"Hello, World!\"\n",
    "print(x)\n",
    "print(x.lower())\n",
    "print(x.lower().islower())\n",
    "print(x.split())\n",
    "print(x.split('o'))\n",
    "print(x.find('W'))\n",
    "print(x.find('w'))\n",
    "print(x.find('Wo'))\n",
    "print(x.find('Wa'))"
   ]
  },
  {
   "cell_type": "markdown",
   "id": "5cddcaa0-d009-4011-869a-83bb927c1c41",
   "metadata": {},
   "source": [
    "<h3> Operasi String lainnya </h3>"
   ]
  },
  {
   "cell_type": "code",
   "execution_count": null,
   "id": "48ef3bfd-f4de-458a-ad84-b9c30bbc7a67",
   "metadata": {},
   "outputs": [],
   "source": [
    "# menggabungkan string\n",
    "a = \"Hello\"\n",
    "b = \"World\"\n",
    "c = a + \" \" + b\n",
    "print(c)\n",
    "\n",
    "# perkalian dengan number\n",
    "print(c*2)\n",
    "\n",
    "# menggunakan f string\n",
    "a = \"Hello\"\n",
    "b = \"World\"\n",
    "c = 123\n",
    "d = f\"{a} {b} {c*2}\"\n",
    "print(d)\n",
    "\n",
    "# escape character (misal jika ingin menggunakan karakter \"\" dalam string)\n",
    "x = 'asd\"zxc\"qwe'\n",
    "print(x)\n",
    "\n",
    "y = \"Hello \\\"World\\\" !\"\n",
    "print(y)"
   ]
  },
  {
   "cell_type": "markdown",
   "id": "6a3543c1-9129-4e85-bd40-0a751443c39d",
   "metadata": {},
   "source": [
    "# Tipe Data Boolean\n",
    "Tipe data ini merepresentasikan nilai True dan False, berguna dalam percabangan"
   ]
  },
  {
   "cell_type": "code",
   "execution_count": 29,
   "id": "5a1d550e-b22f-40b8-bebd-48c06240a441",
   "metadata": {},
   "outputs": [
    {
     "name": "stdout",
     "output_type": "stream",
     "text": [
      "True\n",
      "False\n",
      "False\n",
      "True\n",
      "cast bool 1 True\n",
      "cast bool 2 False\n",
      "cast bool 3 True\n",
      "cast bool 4 False\n",
      "2 lebih besar dari 1\n"
     ]
    }
   ],
   "source": [
    "print(True)\n",
    "print(1 > 2)\n",
    "print(1 == 2)\n",
    "print(1 < 2)\n",
    "print('cast bool 1', bool(2))\n",
    "print('cast bool 2', bool(0))\n",
    "print('cast bool 3', bool('a'))\n",
    "print('cast bool 4', bool(''))\n",
    "\n",
    "a = 1\n",
    "b = 2\n",
    "if b > a:\n",
    "  print(f\"{b} lebih besar dari {a}\")\n",
    "else:\n",
    "  print(f\"{b} lebih kecil dari {a}\")"
   ]
  },
  {
   "cell_type": "markdown",
   "id": "55e21d43-0eec-4986-a291-8e39c8529b0d",
   "metadata": {},
   "source": [
    "<h3> Truthy dan Falsy dalam python</h3>\n",
    "\n",
    "berikut adalah daftar hal yg Falsy dalam python **False, None, 0, \"\", (), [], {}**\n"
   ]
  },
  {
   "cell_type": "code",
   "execution_count": null,
   "id": "93e69bfd-404c-4526-bd66-6e2433f3301a",
   "metadata": {},
   "outputs": [],
   "source": [
    "def truthy_or_falsy(x):\n",
    "    if (x):\n",
    "        print(f\"{x} is Truthy\")\n",
    "    else:\n",
    "        print(f\"{x} is Falsy\")\n",
    "\n",
    "truthy_or_falsy(1)\n",
    "truthy_or_falsy('asd')\n",
    "truthy_or_falsy(0)\n",
    "truthy_or_falsy(\"\")\n",
    "truthy_or_falsy(None)\n",
    "truthy_or_falsy([])\n",
    "truthy_or_falsy([0])"
   ]
  },
  {
   "cell_type": "markdown",
   "id": "c01ec449-7df3-4e74-8572-10666ae02db8",
   "metadata": {},
   "source": [
    "# Tipe Data List\n",
    "Tipe data list digunakan untuk menyimpan banyak data dalam satu variable. **List dapat diubah, bisa menyimpan value yg duplikat**, dan karena merupakan array dapat diakses menggunakan **indexing**."
   ]
  },
  {
   "cell_type": "code",
   "execution_count": 30,
   "id": "a568314b-89b1-4479-8b34-ee59710d190b",
   "metadata": {},
   "outputs": [
    {
     "name": "stdout",
     "output_type": "stream",
     "text": [
      "['abc', 34]\n",
      "['abc', 34, True, [1, 2, 3], 40, 'male']\n"
     ]
    }
   ],
   "source": [
    "a = [\"abc\", 34, True, [1,2,3], 40, \"male\"]\n",
    "print(a[0:2])\n",
    "print(a)"
   ]
  },
  {
   "cell_type": "markdown",
   "id": "29fe4324-e63c-4ad3-9b54-f6aff7257d58",
   "metadata": {},
   "source": [
    "<h3>NOTE: Jika mencoba mengakses atau menset data pada index yang belum terdefinisi akan terjadi error</h3>"
   ]
  },
  {
   "cell_type": "code",
   "execution_count": null,
   "id": "bacab111-5b5d-4dad-8c74-af4c08792de6",
   "metadata": {},
   "outputs": [],
   "source": [
    "a = [\"abc\", 34, True, 40, \"male\"]\n",
    "print(a[10])\n",
    "a[10] = 10"
   ]
  },
  {
   "cell_type": "code",
   "execution_count": 31,
   "id": "63d3511b-0e67-447b-8cda-9714fb6643c5",
   "metadata": {},
   "outputs": [
    {
     "name": "stdout",
     "output_type": "stream",
     "text": [
      "data1\n",
      "data2\n",
      "data3\n",
      "metode 2 = data1\n",
      "metode 2 = data2\n",
      "metode 2 = data3\n"
     ]
    }
   ],
   "source": [
    "example_list = [\"data1\", \"data2\", \"data3\"]\n",
    "for x in example_list:\n",
    "  print(x)\n",
    "    \n",
    "for i in range(len(example_list)):\n",
    "  print(f\"metode 2 = {example_list[i]}\")"
   ]
  },
  {
   "cell_type": "markdown",
   "id": "8c12b0c5-0bd4-4f95-be5d-9f2c04d8fe58",
   "metadata": {},
   "source": [
    "<h3>List method dapat digunakan untuk memanipulasi list atau fungsionalitas tertentu</h3>\n",
    "\n",
    "daftar list method yang bisa digunakan ( https://www.geeksforgeeks.org/list-methods-python/ )"
   ]
  },
  {
   "cell_type": "code",
   "execution_count": 32,
   "id": "471243cb-275d-454d-9db7-749110a0d3da",
   "metadata": {},
   "outputs": [
    {
     "name": "stdout",
     "output_type": "stream",
     "text": [
      "[1, 2, 3]\n",
      "3\n",
      "[1, 2]\n",
      "None\n",
      "[1, 2, 4]\n",
      "None\n",
      "[1, 2, 4, [5, 6]]\n",
      "None\n",
      "[1, 2, 4, [5, 6], 7, 8]\n",
      "4\n"
     ]
    }
   ],
   "source": [
    "a = [1,2,3]\n",
    "print(a)\n",
    "print(a.pop())\n",
    "print(a)\n",
    "print(a.append(4))\n",
    "print(a)\n",
    "print(a.append([5,6]))\n",
    "print(a)\n",
    "print(a.extend([7,8]))\n",
    "print(a)\n",
    "print(a.index(7))"
   ]
  },
  {
   "cell_type": "markdown",
   "id": "13f9bdec-26c6-4a51-afcb-4e6cf6b2d701",
   "metadata": {},
   "source": [
    "# Tipe Data Tuple\n",
    "Tipe data Tuple mirip dengan tipe data List, hanya nilai variable dalam **Tuple tidak dapat diubah.**"
   ]
  },
  {
   "cell_type": "code",
   "execution_count": null,
   "id": "92923976-f4a4-463e-8592-1e1a43d7dcfa",
   "metadata": {},
   "outputs": [],
   "source": [
    "a = (\"apple\", \"banana\", \"cherry\")\n",
    "print(a[1])"
   ]
  },
  {
   "cell_type": "code",
   "execution_count": null,
   "id": "66d5136f-bd69-490f-be99-44bdf3e78dfd",
   "metadata": {},
   "outputs": [],
   "source": [
    "a[1] = \"bakso\""
   ]
  },
  {
   "cell_type": "code",
   "execution_count": null,
   "id": "45659033-c22d-4b3f-8929-49e1601a1d2e",
   "metadata": {},
   "outputs": [],
   "source": [
    "b = list(a)\n",
    "b[1] = \"bakso\"\n",
    "print(b)\n",
    "print(tuple(b))"
   ]
  },
  {
   "cell_type": "markdown",
   "id": "1625804d-e4a4-4637-b4af-2d1dc4ea8978",
   "metadata": {},
   "source": [
    "<h3>Tuple method digunakan untuk mendapatkan atribut dari tuple</h3>\n",
    "\n",
    "hanya ada 2 method dalam tuple yaitu:\n",
    "1. **count()** untuk menghitung frekuensi kehadiran input parameter dalam tuple\n",
    "2. **index()** posisi index kehadiran pertama dari input parameter dalam tuple"
   ]
  },
  {
   "cell_type": "code",
   "execution_count": 41,
   "id": "25388170-58f2-400b-9faf-0a12b493d3e7",
   "metadata": {},
   "outputs": [
    {
     "name": "stdout",
     "output_type": "stream",
     "text": [
      "value count = 1\n",
      "value index = 1\n",
      "hello-world\n"
     ]
    }
   ],
   "source": [
    "a = (1,2,3,3,3,4)\n",
    "print(f\"value count = {a.count(2)}\")\n",
    "print(f\"value index = {a.index(2)}\")\n",
    "\n",
    "a = \"hello\"\n",
    "b = \"world\"\n",
    "c = f\"{a}-{b}\"\n",
    "print(c)"
   ]
  },
  {
   "cell_type": "markdown",
   "id": "04d35edd-c467-4672-a0c8-9307d60b86e1",
   "metadata": {},
   "source": [
    "# Tipe Data Set\n",
    "Tipe data Set mirip dengan tipe data List, hanya nilai variable dalam **Set tidak dapat diakses dengan index dan unique value.**"
   ]
  },
  {
   "cell_type": "code",
   "execution_count": 34,
   "id": "649ccf0a-74b9-40b9-93f1-b7a0b4be9487",
   "metadata": {},
   "outputs": [
    {
     "name": "stdout",
     "output_type": "stream",
     "text": [
      "{'cherry', 'apple', 'banana'}\n",
      "['apple', 'banana', 'cherry', 'banana']\n"
     ]
    }
   ],
   "source": [
    "a = {\"apple\", \"banana\", \"cherry\", \"banana\"}\n",
    "print(a)\n",
    "b = [\"apple\", \"banana\", \"cherry\", \"banana\"]\n",
    "print(b)"
   ]
  },
  {
   "cell_type": "code",
   "execution_count": null,
   "id": "5abaceab-5fbe-4d41-b75c-54a886b35e09",
   "metadata": {},
   "outputs": [],
   "source": [
    "a[1]"
   ]
  },
  {
   "cell_type": "code",
   "execution_count": null,
   "id": "35fbf819-8615-40f5-aad5-0948996ed999",
   "metadata": {},
   "outputs": [],
   "source": [
    "a = list(a)\n",
    "print(a)\n",
    "print(a[1])"
   ]
  },
  {
   "cell_type": "markdown",
   "id": "32d10c6a-f450-4c68-9db3-1587d3602dad",
   "metadata": {},
   "source": [
    "# Tipe Data Dictionary\n",
    "Dictionary digunakan untuk menyimpan data dalam format **pasangan key: value**. Berbeda dengan list yang hanya bisa diakses dengan indeks angka, dictionary bisa diakses dengan index string"
   ]
  },
  {
   "cell_type": "code",
   "execution_count": 44,
   "id": "c8aa60b6-5983-4234-932f-5d860ea8ee0c",
   "metadata": {},
   "outputs": [
    {
     "name": "stdout",
     "output_type": "stream",
     "text": [
      "{'nama': 'Ardi', 'umur': 28, 1: 1996}\n",
      "Ardi\n",
      "1996\n",
      "{'nama': 'Ardi', 'umur': 10, 1: 1996}\n",
      "{'nama': 'Ardi', 'umur': 10, 1: 1996, 'new_key': 'new value'}\n",
      "['nama', 'umur', 1, 'new_key']\n",
      "{'nama': 'aan', 'lat': 1, 'lon': 2, 'tipe_rumah': 'beton'}\n"
     ]
    }
   ],
   "source": [
    "a = {\n",
    "  \"nama\": \"Ardi\",\n",
    "  \"umur\": 28,\n",
    "  1: 1996\n",
    "}\n",
    "\n",
    "print(a)\n",
    "print(a['nama'])\n",
    "print(a[1])\n",
    "\n",
    "# set value yang sudah ada\n",
    "a['umur'] = 10\n",
    "print(a)\n",
    "\n",
    "# bisa menambahkan key value baru\n",
    "a['new_key'] = \"new value\"\n",
    "print(a)\n",
    "\n",
    "# mendapatkan key\n",
    "print(list(a.keys()))\n",
    "\n",
    "rumah = [\n",
    "    {\"nama\":\"aan\", \"lat\":1,\"lon\":2,\"tipe_rumah\":\"beton\"},\n",
    "    {\"nama\":\"aan\", \"lat\":3,\"lon\":4,\"tipe_rumah\":\"kayu\"}\n",
    "]\n",
    "print(rumah[0])"
   ]
  },
  {
   "cell_type": "markdown",
   "id": "d340df32-d884-488c-8be2-e1bbb2850440",
   "metadata": {},
   "source": [
    "<h3>NOTE: Jika mencoba mengakses key yang tidak ada pada dictionary akan error bisa gunakan keyword \"in\"</h3>"
   ]
  },
  {
   "cell_type": "code",
   "execution_count": 46,
   "id": "9ba29f39-e014-496c-a4b5-eb952d0be2c6",
   "metadata": {},
   "outputs": [
    {
     "ename": "KeyError",
     "evalue": "'asd'",
     "output_type": "error",
     "traceback": [
      "\u001b[1;31m---------------------------------------------------------------------------\u001b[0m",
      "\u001b[1;31mKeyError\u001b[0m                                  Traceback (most recent call last)",
      "Cell \u001b[1;32mIn[46], line 7\u001b[0m\n\u001b[0;32m      1\u001b[0m a \u001b[38;5;241m=\u001b[39m {\n\u001b[0;32m      2\u001b[0m   \u001b[38;5;124m\"\u001b[39m\u001b[38;5;124mnama\u001b[39m\u001b[38;5;124m\"\u001b[39m: \u001b[38;5;124m\"\u001b[39m\u001b[38;5;124mArdi\u001b[39m\u001b[38;5;124m\"\u001b[39m,\n\u001b[0;32m      3\u001b[0m   \u001b[38;5;124m\"\u001b[39m\u001b[38;5;124mumur\u001b[39m\u001b[38;5;124m\"\u001b[39m: \u001b[38;5;241m28\u001b[39m,\n\u001b[0;32m      4\u001b[0m   \u001b[38;5;241m1\u001b[39m: \u001b[38;5;241m1996\u001b[39m\n\u001b[0;32m      5\u001b[0m }\n\u001b[1;32m----> 7\u001b[0m \u001b[38;5;28mprint\u001b[39m(\u001b[43ma\u001b[49m\u001b[43m[\u001b[49m\u001b[38;5;124;43m'\u001b[39;49m\u001b[38;5;124;43masd\u001b[39;49m\u001b[38;5;124;43m'\u001b[39;49m\u001b[43m]\u001b[49m)\n\u001b[0;32m      8\u001b[0m \u001b[38;5;28mprint\u001b[39m(\u001b[38;5;124m\"\u001b[39m\u001b[38;5;124mnama\u001b[39m\u001b[38;5;124m\"\u001b[39m \u001b[38;5;129;01min\u001b[39;00m a)\n\u001b[0;32m      9\u001b[0m \u001b[38;5;28mprint\u001b[39m(\u001b[38;5;124m\"\u001b[39m\u001b[38;5;124masd\u001b[39m\u001b[38;5;124m\"\u001b[39m \u001b[38;5;129;01min\u001b[39;00m a)\n",
      "\u001b[1;31mKeyError\u001b[0m: 'asd'"
     ]
    }
   ],
   "source": [
    "a = {\n",
    "  \"nama\": \"Ardi\",\n",
    "  \"umur\": 28,\n",
    "  1: 1996\n",
    "}\n",
    "\n",
    "# print(a['asd'])\n",
    "print(\"nama\" in a)\n",
    "print(\"asd\" in a)"
   ]
  },
  {
   "cell_type": "code",
   "execution_count": 47,
   "id": "d8701cb5-60a2-429b-a31b-536fdd95505f",
   "metadata": {},
   "outputs": [
    {
     "name": "stdout",
     "output_type": "stream",
     "text": [
      "nama\n",
      "umur\n",
      "1\n",
      "Ardi\n",
      "28\n",
      "1996\n"
     ]
    }
   ],
   "source": [
    "a = {\n",
    "  \"nama\": \"Ardi\",\n",
    "  \"umur\": 28,\n",
    "  1: 1996\n",
    "}\n",
    "\n",
    "# akses semua key\n",
    "for x in a:\n",
    "  print(x)\n",
    "\n",
    "# akses semua value\n",
    "for x in a:\n",
    "  print(a[x])"
   ]
  },
  {
   "cell_type": "markdown",
   "id": "ebeba97f-078e-440e-b968-48ab56477abe",
   "metadata": {},
   "source": [
    "<h3> Nested Dictionary (dictionary dapat menyimpan dictionary lain ataupun list)</h3>"
   ]
  },
  {
   "cell_type": "code",
   "execution_count": null,
   "id": "d2897548-0674-4c03-a0d2-6101181f9750",
   "metadata": {},
   "outputs": [],
   "source": [
    "data = {\n",
    "  \"data1\" : {\n",
    "    \"name\" : \"Emil\",\n",
    "    \"pet\" : [\"dog\",\"cat\"]\n",
    "  },\n",
    "  \"data2\" : {\n",
    "    \"name\" : \"Tobias\",\n",
    "    \"pet\" : []\n",
    "  },\n",
    "  \"data3\" : {\n",
    "    \"name\" : \"Linus\",\n",
    "    \"pet\" : [\"horse\"]\n",
    "  }\n",
    "}\n",
    "\n",
    "print(data['data2']['name'])\n",
    "print(data['data1']['pet'][0])"
   ]
  },
  {
   "cell_type": "markdown",
   "id": "6b0a2992-6b9d-47cd-9978-f1c5929244a7",
   "metadata": {},
   "source": [
    "<h3>List of Dictionary (List dapat menampung tipe dictionary)</h3>"
   ]
  },
  {
   "cell_type": "code",
   "execution_count": null,
   "id": "a65d8da9-d3c6-4b78-b428-4a8455ead4f2",
   "metadata": {},
   "outputs": [],
   "source": [
    "data = [\n",
    "    {\n",
    "        \"name\" : \"Emil\",\n",
    "        \"pet\" : [\"dog\",\"cat\"]\n",
    "    },\n",
    "    {\n",
    "        \"name\" : \"Tobias\",\n",
    "        \"pet\" : []\n",
    "    },\n",
    "    {\n",
    "        \"name\" : \"Linus\",\n",
    "        \"pet\" : [\"horse\"]\n",
    "    }\n",
    "]\n",
    "print(data[1]['name'])\n",
    "print(data[0]['pet'][0])"
   ]
  },
  {
   "cell_type": "markdown",
   "id": "5287f4be-d93f-4d2c-be9c-2cf23c546e07",
   "metadata": {},
   "source": [
    "# Python Operator\n",
    "Operator digunakan untuk melakukan operasi terhadap variable ataupun nilai tertentu. Tipe operator dalam python:\n",
    "1. **Operator aritmatika**\n",
    "2. **Operator perbandingan**\n",
    "3. **Operator logical**\n",
    "4. **Operator identitas**\n",
    "5. **Operator member**"
   ]
  },
  {
   "cell_type": "markdown",
   "id": "12191650-0fc2-4f70-b495-3475e7defd8b",
   "metadata": {},
   "source": [
    "<h3>Operator Perbandingan</h3>\n",
    "\n",
    "Operator perbandingan digunakan untuk **membandingkan 2 nilai**. Tipe operator perbandingan:\n",
    "1. Equal (**x == y**)\t\n",
    "2. Not equal\t(**x != y**)\t\n",
    "3. Greater than\t(**x > y**)\t\n",
    "4. Less than\t(**x < y**)\t\n",
    "5. Greater than or equal to\t(**x >= y**)\t\n",
    "6. Less than or equal to (**x <= y**)"
   ]
  },
  {
   "cell_type": "code",
   "execution_count": 48,
   "id": "606fb280-b5df-4d28-819f-a338a91c0f6a",
   "metadata": {},
   "outputs": [
    {
     "name": "stdout",
     "output_type": "stream",
     "text": [
      "equal = True\n",
      "not equal = False\n",
      "greater than = False\n",
      "less than = False\n",
      "greater than or equal = True\n",
      "less than or equal to True\n"
     ]
    }
   ],
   "source": [
    "x = 3\n",
    "y = 3\n",
    "\n",
    "# x = 'a'\n",
    "# y = 'b'\n",
    "\n",
    "# x = 1\n",
    "# y = True\n",
    "\n",
    "# Equal (==)\n",
    "print(f\"equal = {x == y}\")\n",
    "\n",
    "# Not equal (!=)\n",
    "print(f\"not equal = {x != y}\")\n",
    "\n",
    "# Greater than (>)\n",
    "print(f\"greater than = {x > y}\")\n",
    "\n",
    "# Less than (<)\n",
    "print(f\"less than = {x < y}\")\n",
    "\n",
    "# Greater than or equal to (>=)\n",
    "print(f\"greater than or equal = {x >= y}\")\n",
    "\n",
    "# Less than or equal to (<=)\n",
    "print(f\"less than or equal to {x <= y}\")"
   ]
  },
  {
   "cell_type": "markdown",
   "id": "5ae74a2f-9cd1-4749-b98e-f9ca343497d1",
   "metadata": {},
   "source": [
    "<h3>Operator Logical</h3>\n",
    "\n",
    "Operator logical digunakan untuk menggabungkan operasi conditional (boolean), menggunakan **logika matematika**:\n",
    "1. and (**x < 5 and  x < 10**)\t\n",
    "2. or\t(**x < 5 or  x < 10**)\t\n",
    "3. not\t(**not (x < 5)**)"
   ]
  },
  {
   "cell_type": "code",
   "execution_count": 12,
   "id": "4ac10a43-644b-45df-bb6a-8716cd714204",
   "metadata": {},
   "outputs": [
    {
     "name": "stdout",
     "output_type": "stream",
     "text": [
      "AND\n",
      "True and True = True\n",
      "True and False = False\n",
      "False and False = False\n",
      "##################################\n",
      "OR\n",
      "True or True = True\n",
      "True or False = True\n",
      "False or False = False\n",
      "##################################\n",
      "NOT\n",
      "not True = False\n",
      "not False = True\n"
     ]
    }
   ],
   "source": [
    "boolTrue = True\n",
    "boolFalse = False\n",
    "print(\"AND\")\n",
    "print(f\"{boolTrue} and {boolTrue} = {boolTrue and boolTrue}\")\n",
    "print(f\"{boolTrue} and {boolFalse} = {boolTrue and boolFalse}\")\n",
    "print(f\"{boolFalse} and {boolFalse} = {boolFalse and boolFalse}\")\n",
    "print(\"##################################\")\n",
    "print(\"OR\")\n",
    "print(f\"{boolTrue} or {boolTrue} = {boolTrue or boolTrue}\")\n",
    "print(f\"{boolTrue} or {boolFalse} = {boolTrue or boolFalse}\")\n",
    "print(f\"{boolFalse} or {boolFalse} = {boolFalse or boolFalse}\")\n",
    "print(\"##################################\")\n",
    "print(\"NOT\")\n",
    "print(f\"not {boolTrue} = {not(boolTrue)}\")\n",
    "print(f\"not {boolFalse} = {not(boolFalse)}\")"
   ]
  },
  {
   "cell_type": "markdown",
   "id": "f5576995-97a9-43ef-ba81-4b050cc7e298",
   "metadata": {},
   "source": [
    "<h3>Operator Identitas</h3>\n",
    "\n",
    "Operator identitas digunakan untuk membandingkan objek, apakah kedua object **menempati lokasi memori yang sama**.\n",
    "1. is (**x is y**)\t\n",
    "2. is not\t(**x is not y**)"
   ]
  },
  {
   "cell_type": "code",
   "execution_count": 19,
   "id": "bc8ff74c-202c-4415-8e61-1336d2b1bc8b",
   "metadata": {},
   "outputs": [
    {
     "name": "stdout",
     "output_type": "stream",
     "text": [
      "primitive x is z = True\n",
      "primitive x is y = True\n",
      "primitive x == y = True\n",
      "refrential x is z = True\n",
      "refrential x is y = False\n",
      "refrential x == y = True\n"
     ]
    }
   ],
   "source": [
    "x = 1\n",
    "y = 1\n",
    "z = x\n",
    "\n",
    "print(f\"primitive x is z = {x is z}\")\n",
    "print(f\"primitive x is y = {x is y}\")\n",
    "print(f\"primitive x == y = {x == y}\")\n",
    "\n",
    "x = ['a',1]\n",
    "y = ['a',1]\n",
    "z = x\n",
    "print(f\"refrential x is z = {x is z}\")\n",
    "print(f\"refrential x is y = {x is y}\")\n",
    "print(f\"refrential x == y = {x == y}\")\n"
   ]
  },
  {
   "cell_type": "markdown",
   "id": "6009ee3d-cb02-448c-8910-7fae72ba6842",
   "metadata": {},
   "source": [
    "<h3>Operator Member</h3>\n",
    "\n",
    "Operator member digunakan untuk mengetahui apakah suatu nilai **bagian dari sequence data**.\n",
    "1. in (**x in y**)\t\n",
    "2. not in\t(**x not in y**)"
   ]
  },
  {
   "cell_type": "code",
   "execution_count": 24,
   "id": "ba89ab62-23e1-4987-9727-7e5ee9d679b9",
   "metadata": {},
   "outputs": [
    {
     "name": "stdout",
     "output_type": "stream",
     "text": [
      "True\n",
      "False\n"
     ]
    }
   ],
   "source": [
    "x = [\"apple\", \"banana\"]\n",
    "print(\"banana\" in x)\n",
    "\n",
    "x = \"Hello World1!\"\n",
    "print('wo' in x)"
   ]
  },
  {
   "cell_type": "code",
   "execution_count": null,
   "id": "094bca38-d930-4b06-b4bd-5669aa565a58",
   "metadata": {},
   "outputs": [],
   "source": []
  }
 ],
 "metadata": {
  "kernelspec": {
   "display_name": "Python 3 (ipykernel)",
   "language": "python",
   "name": "python3"
  },
  "language_info": {
   "codemirror_mode": {
    "name": "ipython",
    "version": 3
   },
   "file_extension": ".py",
   "mimetype": "text/x-python",
   "name": "python",
   "nbconvert_exporter": "python",
   "pygments_lexer": "ipython3",
   "version": "3.12.5"
  }
 },
 "nbformat": 4,
 "nbformat_minor": 5
}
