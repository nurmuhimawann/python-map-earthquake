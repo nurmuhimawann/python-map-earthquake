{
 "cells": [
  {
   "cell_type": "markdown",
   "id": "a54e2d1e-3af5-41c5-b426-2678ebd1dc55",
   "metadata": {},
   "source": [
    "# Fungsi\n",
    "\n",
    "Sebuah fungsi adalah blok kode yang **hanya berjalan ketika dipanggil**. Kita dapat mengirim data, yang dikenal sebagai **parameter**, ke dalam sebuah fungsi. Sebuah fungsi dapat **mengembalikan data sebagai hasil.**\n",
    "\n",
    "Manfaat fungsi mirip seperti penggunaan variable. Fungsi berguna untuk **mengurangi duplikasi kode** serta **memastikan sebuah operasi atau prosedur berjalan konsisten** didalam kode project kita.\n"
   ]
  },
  {
   "cell_type": "code",
   "execution_count": 8,
   "id": "8460dbe0-d7fd-4b13-992b-1c2bdd48dd40",
   "metadata": {},
   "outputs": [
    {
     "name": "stdout",
     "output_type": "stream",
     "text": [
      "contoh tanpa parameter\n",
      "contoh fungsi dengan argument = ardi\n"
     ]
    }
   ],
   "source": [
    "def contoh_tanpa_param():\n",
    "    print(\"contoh tanpa parameter\")\n",
    "\n",
    "def contoh_dengan_param(nama):\n",
    "    print(f\"contoh fungsi dengan argument = {nama}\")\n",
    "\n",
    "contoh_tanpa_param()\n",
    "contoh_dengan_param(\"ardi\")"
   ]
  },
  {
   "cell_type": "markdown",
   "id": "c7315931-73d1-424a-ac7b-a089f9a90881",
   "metadata": {},
   "source": [
    "# Argument dan Keyword Argument\n",
    "\n",
    "Argument adalah value yang dioper ke dalam fungsi ketika kita memanggil suatu fungsi. Terdapat 2 tipe argument:\n",
    "1. **Positional Argument**\n",
    "2. **Keyword Argument**\n",
    "\n",
    "<h3>Positional Argument</h3>\n",
    "\n",
    "Positional argument adalah jenis argumen yang paling umum. **Nilai-nilai ini diberikan ke parameter sesuai urutan mereka dipanggil.**"
   ]
  },
  {
   "cell_type": "code",
   "execution_count": 10,
   "id": "d67f163d-6963-4025-a779-a8165014bca9",
   "metadata": {},
   "outputs": [
    {
     "name": "stdout",
     "output_type": "stream",
     "text": [
      "Halo, nama saya Alice dan saya berumur 10 tahun.\n",
      "Halo, nama saya 20 dan saya berumur Bob tahun.\n"
     ]
    }
   ],
   "source": [
    "def contoh_sapa(nama, umur):\n",
    "    print(f\"Halo, nama saya {nama} dan saya berumur {umur} tahun.\")\n",
    "\n",
    "contoh_sapa(\"Alice\", 10)\n",
    "contoh_sapa(20, \"Bob\")"
   ]
  },
  {
   "cell_type": "markdown",
   "id": "7f466c06-8b9b-484b-8e53-5405ecd43cc8",
   "metadata": {},
   "source": [
    "<h3>Keyword Argument</h3>\n",
    "\n",
    "Keyword argumen diberikan ke fungsi dengan pasangan key-value, di mana key adalah nama parameter. **Ini memungkinkan kita untuk memberikan argumen dalam urutan apa pun.**"
   ]
  },
  {
   "cell_type": "code",
   "execution_count": 11,
   "id": "082d674b-5037-4d24-87c7-67e41f36aba6",
   "metadata": {},
   "outputs": [
    {
     "name": "stdout",
     "output_type": "stream",
     "text": [
      "Halo, nama saya Alice dan saya berumur 10 tahun.\n",
      "Halo, nama saya Bob dan saya berumur 20 tahun.\n"
     ]
    }
   ],
   "source": [
    "# Memanggil fungsi dengan keyword argument\n",
    "contoh_sapa(umur=10, nama=\"Alice\")\n",
    "contoh_sapa(nama=\"Bob\", umur=20)\n"
   ]
  },
  {
   "cell_type": "markdown",
   "id": "97574e60-7f2a-4aec-8422-6449a9f1ce16",
   "metadata": {},
   "source": [
    "<h3>NOTE: Memasukan jumlah argument yang tidak sesuai akan menyebabkan error</h3>\n",
    "\n",
    "Apabila ingin mempelajari lebih lanjut mengenai cara menghandle permasalahan ini sehingga dapat membuat fungsi yang lebih dinamis. Pelajari lebih lanjut mengenai **Arbitrary Arguments** (*args) dan **Arbitrary Keyword Arguments** (\\*\\*kwargs)"
   ]
  },
  {
   "cell_type": "code",
   "execution_count": 16,
   "id": "1d33bbc5-58a5-47c2-9485-1c2047ef71aa",
   "metadata": {},
   "outputs": [
    {
     "ename": "TypeError",
     "evalue": "contoh_sapa() got an unexpected keyword argument 'gender'",
     "output_type": "error",
     "traceback": [
      "\u001b[1;31m---------------------------------------------------------------------------\u001b[0m",
      "\u001b[1;31mTypeError\u001b[0m                                 Traceback (most recent call last)",
      "Cell \u001b[1;32mIn[16], line 5\u001b[0m\n\u001b[0;32m      1\u001b[0m \u001b[38;5;66;03m# contoh_sapa(\"Alice\")\u001b[39;00m\n\u001b[0;32m      2\u001b[0m \u001b[38;5;66;03m# contoh_sapa(\"Alice\",10,\"perempuan\")\u001b[39;00m\n\u001b[0;32m      3\u001b[0m \u001b[38;5;66;03m# contoh_sapa(nama=\"Bob\")\u001b[39;00m\n\u001b[0;32m      4\u001b[0m \u001b[38;5;66;03m# contoh_sapa(umur=20)\u001b[39;00m\n\u001b[1;32m----> 5\u001b[0m \u001b[43mcontoh_sapa\u001b[49m\u001b[43m(\u001b[49m\u001b[43mnama\u001b[49m\u001b[38;5;241;43m=\u001b[39;49m\u001b[38;5;124;43m\"\u001b[39;49m\u001b[38;5;124;43mBob\u001b[39;49m\u001b[38;5;124;43m\"\u001b[39;49m\u001b[43m,\u001b[49m\u001b[43m \u001b[49m\u001b[43mumur\u001b[49m\u001b[38;5;241;43m=\u001b[39;49m\u001b[38;5;241;43m20\u001b[39;49m\u001b[43m,\u001b[49m\u001b[43m \u001b[49m\u001b[43mgender\u001b[49m\u001b[38;5;241;43m=\u001b[39;49m\u001b[38;5;124;43m\"\u001b[39;49m\u001b[38;5;124;43mpria\u001b[39;49m\u001b[38;5;124;43m\"\u001b[39;49m\u001b[43m)\u001b[49m\n",
      "\u001b[1;31mTypeError\u001b[0m: contoh_sapa() got an unexpected keyword argument 'gender'"
     ]
    }
   ],
   "source": [
    "# contoh_sapa(\"Alice\")\n",
    "# contoh_sapa(\"Alice\",10,\"perempuan\")\n",
    "# contoh_sapa(nama=\"Bob\")\n",
    "# contoh_sapa(umur=20)\n",
    "contoh_sapa(nama=\"Bob\", umur=20, gender=\"pria\")"
   ]
  },
  {
   "cell_type": "markdown",
   "id": "aaf5ec2f-19d3-414e-a96a-a3b7a378de60",
   "metadata": {},
   "source": [
    "# Default Value\n",
    "Nilai default pada argumen fungsi ditentukan dengan menggunakan **operator sama dengan (=)** saat mendefinisikan fungsi. **Jika argumen tidak diberikan** saat fungsi dipanggil, maka **nilai default tersebut yang akan digunakan**."
   ]
  },
  {
   "cell_type": "code",
   "execution_count": 22,
   "id": "26490679-1a5b-4948-9a0b-8a0c1cd442b3",
   "metadata": {},
   "outputs": [
    {
     "name": "stdout",
     "output_type": "stream",
     "text": [
      "Halo, nama saya Ardi dan saya berumur 40 tahun.\n"
     ]
    }
   ],
   "source": [
    "def contoh_sapa_dengan_default(nama=\"Ardi\", umur=28):\n",
    "    print(f\"Halo, nama saya {nama} dan saya berumur {umur} tahun.\")\n",
    "\n",
    "# contoh_sapa_dengan_default()\n",
    "# contoh_sapa_dengan_default(\"Budi\")\n",
    "# contoh_sapa_dengan_default(10)\n",
    "# contoh_sapa_dengan_default(10,\"Candra\")\n",
    "contoh_sapa_dengan_default(umur=40)"
   ]
  },
  {
   "cell_type": "markdown",
   "id": "9aa28279-7579-4629-8ca0-303b285b857b",
   "metadata": {},
   "source": [
    "# Return Value\n",
    "\n",
    "Selain melakukan suatu set operasi atau prosedur, **fungsi dapat mengembalikan nilai** yang dapat digunakan dalam bagian kode lainnya. Untuk mengembalikan suatu nilai kita bisa menggunakan **return**. Kode yang berada di bawah dari return akan diabaikan."
   ]
  },
  {
   "cell_type": "code",
   "execution_count": 39,
   "id": "ea2608c7-1c2e-43b1-a19f-c59c0b73b44d",
   "metadata": {},
   "outputs": [
    {
     "name": "stdout",
     "output_type": "stream",
     "text": [
      "part ini akan dijalankan..\n",
      "Hasil print tanpa return =  None\n",
      "Hasil print dengan return =  Halo, nama saya Ardi dan saya berumur 28 tahun.\n"
     ]
    }
   ],
   "source": [
    "def contoh_sapa_tanpa_return(nama=\"Ardi\", umur=28):\n",
    "    res = f\"Halo, nama saya {nama} dan saya berumur {umur} tahun.\"\n",
    "    print('part ini akan dijalankan..')\n",
    "\n",
    "hasil_tanpa_return = contoh_sapa_tanpa_return()\n",
    "print(f\"Hasil print tanpa return =  {hasil_tanpa_return}\")\n",
    "\n",
    "def contoh_sapa_dengan_return(nama=\"Ardi\", umur=28):\n",
    "    res = f\"Halo, nama saya {nama} dan saya berumur {umur} tahun.\"\n",
    "    return(res)\n",
    "    print('part ini akan diabaikan..')\n",
    "    \n",
    "hasil = contoh_sapa_dengan_return()\n",
    "print(f\"Hasil print dengan return =  {hasil}\")"
   ]
  },
  {
   "cell_type": "markdown",
   "id": "48c8aecc-f7c5-49a5-9dc9-69252fc661f5",
   "metadata": {},
   "source": [
    "<h3>NOTE: Saat ini tidak ada batasan tipe data yang dioper ke dalam parameter</h3>\n",
    "\n",
    "Misal pada fungsi sapa tersebut parameter **nama** bisa kita beri tipe data angka. Apabila program sudah cukup besar, hal ini bisa menyebabkan kebingungan dalam menggunakan fungsi. Untuk mencegah hal tersebut, bisa pelajari lebih lanjut mengenai **Parameter Typing**"
   ]
  },
  {
   "cell_type": "markdown",
   "id": "067e460c-8923-49fd-afa3-a9e9f1948b95",
   "metadata": {},
   "source": [
    "# Exercise Function\n",
    "\n",
    "Buatlah suatu fungsi reverseString(kata) yang menerima satu parameter berupa string. Fungsi tersebut akan mengembalikan input yang urutannya telah dibalik. Contoh input dan output fungsi:\n",
    "\n",
    " 1. input : \"Ardi\" => output : \"idrA\"\n",
    " 2. input : \"Hello World!\" => output : \"!dlroW olleH\"\n"
   ]
  },
  {
   "cell_type": "code",
   "execution_count": 34,
   "id": "f8b67234-d925-4a2d-9eb1-87b84d4cf61c",
   "metadata": {},
   "outputs": [
    {
     "name": "stdout",
     "output_type": "stream",
     "text": [
      "!dlroW olleH\n"
     ]
    }
   ],
   "source": [
    "kata = \"Hello World!\"\n",
    "\n",
    "def reverseString(kata):\n",
    "    # penampung = \"\"\n",
    "    # for index in range(len(kata)-1,-1,-1):\n",
    "    #     penampung = f\"{penampung}{kata[index]}\"\n",
    "    # print(penampung)\n",
    "    hasil_reverse = kata[::-1]\n",
    "    print(hasil_reverse)\n",
    "\n",
    "reverseString(kata)"
   ]
  },
  {
   "cell_type": "markdown",
   "id": "d158e4ff-0d4e-415d-a9da-a6d1209b2319",
   "metadata": {},
   "source": [
    "buatlah suatu fungsi yang menggabungkan string dalam list dengan tambahan penghubung tertentu\n",
    "1. gabung(['hello','world'],\"-\") => 'hello-world'\n",
    "2. gabung(['hello','world',\"bro\"],\"-\") => 'hello-world-bro'\n",
    "3. gabung(['hello','world',\"bro\"],\"&\") => 'hello&world&bro'"
   ]
  },
  {
   "cell_type": "code",
   "execution_count": 38,
   "id": "b71226e4-011c-4617-8754-444b6ee7629d",
   "metadata": {},
   "outputs": [
    {
     "name": "stdout",
     "output_type": "stream",
     "text": [
      "hello-world-bro\n"
     ]
    }
   ],
   "source": [
    "def gabung(list_kata,separator):\n",
    "    concatenated_string = list_kata[0] \n",
    "    for string in list_kata[1:]: \n",
    "        concatenated_string += separator + string\n",
    "    print(concatenated_string)\n",
    "\n",
    "gabung(['hello','world',\"bro\"],\"-\")"
   ]
  },
  {
   "cell_type": "code",
   "execution_count": null,
   "id": "ccbff57e-8e61-440e-863a-e24f2afc0236",
   "metadata": {},
   "outputs": [],
   "source": []
  }
 ],
 "metadata": {
  "kernelspec": {
   "display_name": "Python 3 (ipykernel)",
   "language": "python",
   "name": "python3"
  },
  "language_info": {
   "codemirror_mode": {
    "name": "ipython",
    "version": 3
   },
   "file_extension": ".py",
   "mimetype": "text/x-python",
   "name": "python",
   "nbconvert_exporter": "python",
   "pygments_lexer": "ipython3",
   "version": "3.12.5"
  }
 },
 "nbformat": 4,
 "nbformat_minor": 5
}
