{
 "cells": [
  {
   "cell_type": "markdown",
   "id": "017feecb-bece-4447-a115-df5f2822d4d3",
   "metadata": {},
   "source": [
    "# Excercise geopandas\n",
    "\n",
    "1. Buat geodataframe dari **\"earthquake_data.csv\"** yang berada dalam folder data, kemudian plot hasilnya.\n",
    "2. seleksi data pada geodataframe yang memiliki magnitude lebih besar dari 6, kemudian plot hasilnya.\n",
    "3. seleksi data pada geodataframe yang memiliki kedalaman lebih kecil dari 40 Km dan magnitude lebih besar dari 6, kemudian plot hasilnya."
   ]
  },
  {
   "cell_type": "code",
   "execution_count": null,
   "id": "680a3976-f6dc-4669-8ba6-9877a40485be",
   "metadata": {},
   "outputs": [],
   "source": []
  }
 ],
 "metadata": {
  "kernelspec": {
   "display_name": "Python 3 (ipykernel)",
   "language": "python",
   "name": "python3"
  },
  "language_info": {
   "codemirror_mode": {
    "name": "ipython",
    "version": 3
   },
   "file_extension": ".py",
   "mimetype": "text/x-python",
   "name": "python",
   "nbconvert_exporter": "python",
   "pygments_lexer": "ipython3",
   "version": "3.12.5"
  }
 },
 "nbformat": 4,
 "nbformat_minor": 5
}
