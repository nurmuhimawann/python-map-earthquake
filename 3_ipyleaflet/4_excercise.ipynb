{
 "cells": [
  {
   "cell_type": "markdown",
   "id": "e4440d03-6ee5-42a2-92b3-968aa59b9fd7",
   "metadata": {},
   "source": [
    "# Excercise Earthquake visualization using ipyleaflet\n",
    "\n",
    "1. Buat peta ipyleaflet yang titik tengah petanya pada latitude = -0.3, longitude = 101, dan zoom level = 6.\n",
    "2. Buat geodataframe dari data gempa (**earthquake_data.geojson**) yang berada dalam folder **data**, kemudian ubah data tersebut menjadi json.\n",
    "3. Plot data gempa tersebut ke dalam peta ipyleaflet menggunakan fungsi **GeoJSON**.\n",
    "4. Buat fungsi menghandle pembuatan popup yang menampilkan informasi event data gempa ketika salah satu titik di klik, dan tambahkan fungsi tersebut kedalam object GeoJSON (**on_click**) sebelum dimasukan ke dalam peta.\n",
    "5. Fungsi GeoJSON bisa menerima inputan **style_callback**, yang memberikan parameter feature (informasi tiap row data). Gunakan fungsi ini untuk mengatur nilai **radius** dari marker sesuai dengan nilai **magnitudenya**.\n",
    "6. Sama seperti **point 5** sebelumnya, atur warna atau nilai **fillColor** dari marker sesuai dengan **kedalaman** dari event gempanya.\n",
    "7. Buat widget input text menggunakan **BoundedFloatText** dari ipywidget untuk mendapatkan nilai minimum dan maximum dari latitude dan longitude.\n",
    "8. Buat sebuah button menggunakan **Button** dari ipywidget untuk mentriger filtering.\n",
    "9. Masukan widget yang sudah dibuat kedalam suatu **widgets.VBox** dan buat **WidgetControl** untuk memasukan widget box tersebut kedalam peta.\n",
    "10. Buat **fungsi untuk menghandle event click** dari tombol dan mentrigger filter data menggunakan nilai minimum dan maximum dari latitude dan longitude, yang diinputkan dalam widget input text.\n",
    "11. Buat sebuah range slider menggunakan **FloatRangeSlider** dari ipywidget untuk mendapatkan nilai minimum dan maximum dari depth\n",
    "12. Buat sebuah dropdown menggunakan **Dropdown** dari ipywidget untuk mendapatkan nilai minimum dari magnitude.\n",
    "13. Masukan widget **point 8 dan 9** ke dalam widget box pada **point 6** sebelumnya.\n",
    "14. tambahkan logic untuk menghandle inputan pada **point 8 dan 9** kedalam fungsi yang telah dibuat dalam **point 7** sebelumnya."
   ]
  },
  {
   "cell_type": "code",
   "execution_count": null,
   "id": "72285341-1cbe-460d-b80d-eb63d4ba20d1",
   "metadata": {},
   "outputs": [],
   "source": []
  }
 ],
 "metadata": {
  "kernelspec": {
   "display_name": "Python 3 (ipykernel)",
   "language": "python",
   "name": "python3"
  },
  "language_info": {
   "codemirror_mode": {
    "name": "ipython",
    "version": 3
   },
   "file_extension": ".py",
   "mimetype": "text/x-python",
   "name": "python",
   "nbconvert_exporter": "python",
   "pygments_lexer": "ipython3",
   "version": "3.12.5"
  }
 },
 "nbformat": 4,
 "nbformat_minor": 5
}
