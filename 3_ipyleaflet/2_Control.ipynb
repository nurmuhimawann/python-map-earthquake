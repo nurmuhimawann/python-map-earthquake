{
 "cells": [
  {
   "cell_type": "code",
   "execution_count": 1,
   "id": "c7f00ffe-b609-4457-a8f7-72b7539545d1",
   "metadata": {},
   "outputs": [
    {
     "data": {
      "application/vnd.jupyter.widget-view+json": {
       "model_id": "cb16959509ae47c9a98d25aa60212cc1",
       "version_major": 2,
       "version_minor": 0
      },
      "text/plain": [
       "Map(center=[0, 114], controls=(AttributionControl(options=['position', 'prefix'], position='bottomright'),), c…"
      ]
     },
     "metadata": {},
     "output_type": "display_data"
    }
   ],
   "source": [
    "from ipyleaflet import Map\n",
    "from IPython.display import display\n",
    "\n",
    "m = Map(zoom=5, center=[0, 114], zoom_control=False)  # Do not automatically create a ZoomControl\n",
    "\n",
    "display(m)"
   ]
  },
  {
   "cell_type": "code",
   "execution_count": 2,
   "id": "7858c824-413a-4f47-bf66-3c7414074d1c",
   "metadata": {},
   "outputs": [
    {
     "data": {
      "application/vnd.jupyter.widget-view+json": {
       "model_id": "cb16959509ae47c9a98d25aa60212cc1",
       "version_major": 2,
       "version_minor": 0
      },
      "text/plain": [
       "Map(center=[0, 114], controls=(AttributionControl(options=['position', 'prefix'], position='bottomright'), Zoo…"
      ]
     },
     "execution_count": 2,
     "metadata": {},
     "output_type": "execute_result"
    }
   ],
   "source": [
    "from ipyleaflet import ZoomControl, ScaleControl, FullScreenControl\n",
    "\n",
    "m.add(ZoomControl(position='topleft'))\n",
    "m.add(ScaleControl(position='bottomleft'))\n",
    "m.add(FullScreenControl())"
   ]
  },
  {
   "cell_type": "code",
   "execution_count": 3,
   "id": "819bea57-e53c-4694-9029-88831f0b4f76",
   "metadata": {},
   "outputs": [
    {
     "data": {
      "application/vnd.jupyter.widget-view+json": {
       "model_id": "cb16959509ae47c9a98d25aa60212cc1",
       "version_major": 2,
       "version_minor": 0
      },
      "text/plain": [
       "Map(center=[0, 114], controls=(AttributionControl(options=['position', 'prefix'], position='bottomright'), Zoo…"
      ]
     },
     "metadata": {},
     "output_type": "display_data"
    }
   ],
   "source": [
    "from ipyleaflet import basemap_to_tiles, basemaps, GeoJSON, LayersControl\n",
    "\n",
    "from ipyleaflet import Map, TileLayer, LayersControl\n",
    "import json\n",
    "\n",
    "# Add a tile layer\n",
    "tile_layer = basemap_to_tiles(basemaps.Esri.WorldImagery)\n",
    "m.add_layer(tile_layer)\n",
    "\n",
    "# Add a GeoJSON layer\n",
    "geojson_data = {\n",
    "    \"type\": \"FeatureCollection\",\n",
    "    \"features\": [\n",
    "        {\n",
    "            \"type\": \"Feature\",\n",
    "            \"geometry\": {\n",
    "                \"type\": \"Point\",\n",
    "                \"coordinates\": [114, 0]\n",
    "            },\n",
    "            \"properties\": {\n",
    "                \"name\": \"Sample Point\"\n",
    "            }\n",
    "        }\n",
    "    ]\n",
    "}\n",
    "geojson_layer = GeoJSON(data=geojson_data, name='GeoJSON Layer')\n",
    "m.add(geojson_layer)\n",
    "\n",
    "# Create a LayersControl and add it to the map\n",
    "control = LayersControl(position='topright')\n",
    "m.add(control)\n",
    "\n",
    "# Display the map\n",
    "display(m)\n"
   ]
  },
  {
   "cell_type": "markdown",
   "id": "2f9ece8a-7229-4d3d-b323-65d573c14406",
   "metadata": {},
   "source": [
    "# Ipywidget\n",
    "\n",
    "Ipywidgets dan ipyleaflet keduanya merupakan bagian dari ekosistem Jupyter. Ipywidgets merupakan framework untuk membuat kontrol interaktif di Jupyter notebook. **Ipyleaflet menggunakan ipywidgets untuk menangani komponen interaktif pada peta**, sehingga penting untuk mengetahui dasar-dasar tentang ipywidget untuk memperluas fungsionalitas ipyleaflet. Hal utama yang perlu diketahui mengenai ipywidget adalah:\n",
    "\n",
    "1. **Widgets**: kontrol interaktif yang dapat ditambahkan ke Jupyter. Contohnya seperti **slider, text input, dropdown, check box, button, dll**. (https://ipywidgets.readthedocs.io/en/latest/examples/Widget%20List.html)\n",
    "2. **Widget Events**: respons interaksi user melalui events. Misalnya, sebuah **tombol dapat memicu fungsi ketika diklik**. (https://ipywidgets.readthedocs.io/en/latest/examples/Widget%20Events.html)\n",
    "3. **Layout and Styling**: Widgets dapat diatur dan **dikustomisasi tampilan serta penempatannya**."
   ]
  },
  {
   "cell_type": "code",
   "execution_count": 4,
   "id": "4bc1cb24-1260-4a82-9db0-c4db34620016",
   "metadata": {},
   "outputs": [
    {
     "data": {
      "application/vnd.jupyter.widget-view+json": {
       "model_id": "4c0dae9c0e854f32bb53bcffb72577ab",
       "version_major": 2,
       "version_minor": 0
      },
      "text/plain": [
       "IntSlider(value=7, description='Int Slider:', max=10, style=SliderStyle(description_width='initial'))"
      ]
     },
     "metadata": {},
     "output_type": "display_data"
    },
    {
     "data": {
      "application/vnd.jupyter.widget-view+json": {
       "model_id": "308ad7befe3e44878373338f5e1bd9a0",
       "version_major": 2,
       "version_minor": 0
      },
      "text/plain": [
       "Text(value='Hello, World!', description='Text Input:', style=TextStyle(description_width='initial'))"
      ]
     },
     "metadata": {},
     "output_type": "display_data"
    },
    {
     "data": {
      "application/vnd.jupyter.widget-view+json": {
       "model_id": "69207ce71b9a4740920aaf52765d31c6",
       "version_major": 2,
       "version_minor": 0
      },
      "text/plain": [
       "Checkbox(value=False, description='Check me', style=CheckboxStyle(description_width='initial'))"
      ]
     },
     "metadata": {},
     "output_type": "display_data"
    },
    {
     "data": {
      "application/vnd.jupyter.widget-view+json": {
       "model_id": "c206c5c7f97a4420b3a595af811d3a1f",
       "version_major": 2,
       "version_minor": 0
      },
      "text/plain": [
       "Button(button_style='success', description='Click Me!', icon='check', style=ButtonStyle(), tooltip='Click me')"
      ]
     },
     "metadata": {},
     "output_type": "display_data"
    }
   ],
   "source": [
    "import ipywidgets as widgets\n",
    "from IPython.display import display\n",
    "\n",
    "# slider\n",
    "slider = widgets.IntSlider(\n",
    "    value=7,\n",
    "    min=0,\n",
    "    max=10,\n",
    "    step=1,\n",
    "    description='Int Slider:',\n",
    "    style={'description_width': 'initial'}\n",
    ")\n",
    "\n",
    "# text\n",
    "text_input = widgets.Text(\n",
    "    value='Hello, World!',\n",
    "    description='Text Input:',\n",
    "    style={'description_width': 'initial'}\n",
    ")\n",
    "\n",
    "# checkbox\n",
    "checkbox = widgets.Checkbox(\n",
    "    value=False,\n",
    "    description='Check me',\n",
    "    style={'description_width': 'initial'}\n",
    ")\n",
    "\n",
    "# button\n",
    "button = widgets.Button(\n",
    "    description='Click Me!',\n",
    "    button_style='success',  # 'success', 'info', 'warning', 'danger' or ''\n",
    "    tooltip='Click me',\n",
    "    icon='check'  # (FontAwesome names without the `fa-` prefix)\n",
    ")\n",
    "\n",
    "# Create an Output widget to display the values\n",
    "output = widgets.Output()\n",
    "\n",
    "def on_button_click(b):\n",
    "    with output:\n",
    "        output.clear_output()  # Clear previous output\n",
    "        print(f'Slider value: {slider.value}')\n",
    "        print(f'Text input value: {text_input.value}')\n",
    "        print(f'Checkbox value: {checkbox.value}')\n",
    "\n",
    "button.on_click(on_button_click)\n",
    "\n",
    "display(slider, text_input, checkbox, button, )"
   ]
  },
  {
   "cell_type": "markdown",
   "id": "8819dc5a-6338-4de1-9cee-b04db9186fd5",
   "metadata": {},
   "source": [
    "# Handle widget event secara manual"
   ]
  },
  {
   "cell_type": "code",
   "execution_count": 7,
   "id": "5f58118b-ef02-4190-b6f7-54110b96625d",
   "metadata": {},
   "outputs": [
    {
     "data": {
      "application/vnd.jupyter.widget-view+json": {
       "model_id": "942605f1896a4aea8b76192642a3cba4",
       "version_major": 2,
       "version_minor": 0
      },
      "text/plain": [
       "IntSlider(value=7, description='Zoom level:', max=15)"
      ]
     },
     "metadata": {},
     "output_type": "display_data"
    },
    {
     "data": {
      "application/vnd.jupyter.widget-view+json": {
       "model_id": "722f39da784d4582bdbd4cae9ca10d71",
       "version_major": 2,
       "version_minor": 0
      },
      "text/plain": [
       "Button(button_style='success', description='Apply Zoom Level', icon='search', style=ButtonStyle())"
      ]
     },
     "metadata": {},
     "output_type": "display_data"
    },
    {
     "data": {
      "application/vnd.jupyter.widget-view+json": {
       "model_id": "1aa2c78b11054dde80c7b51daec69471",
       "version_major": 2,
       "version_minor": 0
      },
      "text/plain": [
       "Map(center=[0, 114], controls=(ZoomControl(options=['position', 'zoom_in_text', 'zoom_in_title', 'zoom_out_tex…"
      ]
     },
     "metadata": {},
     "output_type": "display_data"
    }
   ],
   "source": [
    "from ipyleaflet import Map, WidgetControl, Marker\n",
    "import ipywidgets as widgets\n",
    "from IPython.display import display\n",
    "\n",
    "m = Map(center=(0, 114), zoom=7)\n",
    "zoom_slider = widgets.IntSlider(description='Zoom level:', min=0, max=15, value=7)\n",
    "\n",
    "button = widgets.Button(\n",
    "    description='Apply Zoom Level',\n",
    "    button_style='success',  # 'success', 'info', 'warning', 'danger' or ''\n",
    "    icon='search'  # (FontAwesome names without the `fa-` prefix)\n",
    ")\n",
    "\n",
    "def on_button_click(*b):\n",
    "    m.zoom = zoom_slider.value\n",
    "    \n",
    "button.on_click(on_button_click)\n",
    "display(zoom_slider,button,m)"
   ]
  },
  {
   "cell_type": "markdown",
   "id": "9e7466c4-768e-4f1e-a8bf-56889b62e7c3",
   "metadata": {},
   "source": [
    "# Menggabungkan widget kedalam ipyleaflet"
   ]
  },
  {
   "cell_type": "code",
   "execution_count": 9,
   "id": "401a5ca4-585b-4c9c-bf3d-c61f065902f3",
   "metadata": {},
   "outputs": [
    {
     "data": {
      "application/vnd.jupyter.widget-view+json": {
       "model_id": "c7a2b59e8c3e425ba771018981eae68b",
       "version_major": 2,
       "version_minor": 0
      },
      "text/plain": [
       "Map(center=[0, 114], controls=(ZoomControl(options=['position', 'zoom_in_text', 'zoom_in_title', 'zoom_out_tex…"
      ]
     },
     "metadata": {},
     "output_type": "display_data"
    }
   ],
   "source": [
    "from ipyleaflet import Map, WidgetControl, Marker\n",
    "import ipywidgets as widgets\n",
    "from IPython.display import display\n",
    "\n",
    "m = Map(center=(0, 114), zoom=7)\n",
    "zoom_slider = widgets.IntSlider(description='Zoom level:', min=0, max=15, value=7)\n",
    "\n",
    "button = widgets.Button(\n",
    "    description='Apply Zoom Level',\n",
    "    button_style='success',  # 'success', 'info', 'warning', 'danger' or ''\n",
    "    icon='search'  # (FontAwesome names without the `fa-` prefix)\n",
    ")\n",
    "\n",
    "def on_button_click(*b):\n",
    "    m.zoom = zoom_slider.value\n",
    "    \n",
    "button.on_click(on_button_click)\n",
    "\n",
    "widget_control1 = WidgetControl(widget=zoom_slider, position='topright')\n",
    "widget_control2 = WidgetControl(widget=button, position='topright')\n",
    "m.add(widget_control1)\n",
    "m.add(widget_control2)\n",
    "display(m)"
   ]
  },
  {
   "cell_type": "code",
   "execution_count": null,
   "id": "e66e914b-859a-4887-b57e-0e1a6dc1687b",
   "metadata": {},
   "outputs": [],
   "source": []
  }
 ],
 "metadata": {
  "kernelspec": {
   "display_name": "Python 3 (ipykernel)",
   "language": "python",
   "name": "python3"
  },
  "language_info": {
   "codemirror_mode": {
    "name": "ipython",
    "version": 3
   },
   "file_extension": ".py",
   "mimetype": "text/x-python",
   "name": "python",
   "nbconvert_exporter": "python",
   "pygments_lexer": "ipython3",
   "version": "3.12.5"
  }
 },
 "nbformat": 4,
 "nbformat_minor": 5
}
