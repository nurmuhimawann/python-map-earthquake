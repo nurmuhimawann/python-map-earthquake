{
 "cells": [
  {
   "cell_type": "markdown",
   "id": "3e0686c7-c4c3-4069-8e0f-462454e82bb8",
   "metadata": {},
   "source": [
    "# Ipyleaflet\n",
    "\n",
    "**ipyleaflet** adalah widget Jupyter yang dibuat mengadapatasi Leaflet.js (JavaScript). Ini memungkinkan kita untuk membuat dan memanipulasi peta langsung dalam Jupyter notebook ataupun aplikasi webGIS. Dalam ipyleaflet terdapat tiga component utama yang menyusun peta interaktif yaitu **map, layer, dan control**. Fitur utama ipyleaflet adalah seagai berikut: (https://ipyleaflet.readthedocs.io/en/latest/index.html)\n",
    "\n",
    "1. **Peta Interaktif**: Anda dapat membuat peta yang mendukung panning, zooming, dan berbagai fitur interaktif.\n",
    "2. **Pembaruan Dinamis**: Mendukung pembaruan sisi Python dan browser, memungkinkan interaksi real time dengan elemen peta.\n",
    "3. **Custom Control**: Menawarkan berbagai kontrol seperti zoom, skala, dll.\n",
    "4. **Integrasi dengan ipywidgets**: Memanfaatkan ipywidgets untuk memberikan pengalaman interaktif yang lebih fleksibel."
   ]
  },
  {
   "cell_type": "code",
   "execution_count": 4,
   "id": "29cdfe85-701b-46c5-b402-4f9aad96449a",
   "metadata": {},
   "outputs": [
    {
     "data": {
      "application/vnd.jupyter.widget-view+json": {
       "model_id": "a49509efb16a41cea4295df32b657306",
       "version_major": 2,
       "version_minor": 0
      },
      "text/plain": [
       "Map(center=[-0.3, 101], controls=(ZoomControl(options=['position', 'zoom_in_text', 'zoom_in_title', 'zoom_out_…"
      ]
     },
     "metadata": {},
     "output_type": "display_data"
    }
   ],
   "source": [
    "from ipyleaflet import Map, basemaps, basemap_to_tiles\n",
    "from ipywidgets import widgets,Layout\n",
    "from IPython.display import display\n",
    "\n",
    "center = (0, 117)\n",
    "zoom = 5\n",
    "\n",
    "m = Map(\n",
    "    center=center,\n",
    "    zoom=zoom,\n",
    "    layout=Layout(width='95%', height='500px')\n",
    ")\n",
    "\n",
    "display(m)"
   ]
  },
  {
   "cell_type": "markdown",
   "id": "394bf527-ee9b-4c79-a777-a7934dd7d062",
   "metadata": {},
   "source": [
    "# Basemap / Tile layer\n",
    "\n",
    "daftar tile layer yang bisa digunakan dalam ipyleaflet (https://ipyleaflet.readthedocs.io/en/latest/map_and_basemaps/basemaps.html)"
   ]
  },
  {
   "cell_type": "code",
   "execution_count": 5,
   "id": "ba54a01d-2ed1-4fc6-a7e0-d118d73b8e34",
   "metadata": {},
   "outputs": [
    {
     "data": {
      "application/vnd.jupyter.widget-view+json": {
       "model_id": "a49509efb16a41cea4295df32b657306",
       "version_major": 2,
       "version_minor": 0
      },
      "text/plain": [
       "Map(bottom=4353.0, center=[-0.3, 101], controls=(ZoomControl(options=['position', 'zoom_in_text', 'zoom_in_tit…"
      ]
     },
     "metadata": {},
     "output_type": "display_data"
    }
   ],
   "source": [
    "tile_layer = basemap_to_tiles(basemaps.Esri.WorldImagery)\n",
    "m.add(tile_layer)\n",
    "display(m)"
   ]
  },
  {
   "cell_type": "markdown",
   "id": "38ebffee-4172-40a6-91f4-0f2509b2951c",
   "metadata": {},
   "source": [
    "# Marker dan custom pop up"
   ]
  },
  {
   "cell_type": "code",
   "execution_count": 6,
   "id": "0e6790b9-d979-477f-8f5a-4116fb83894b",
   "metadata": {},
   "outputs": [
    {
     "name": "stdout",
     "output_type": "stream",
     "text": [
      "Marker(location=[-3, 110], options=['alt', 'draggable', 'keyboard', 'rise_offset', 'rise_on_hover', 'rotation_angle', 'rotation_origin', 'title', 'z_index_offset'], rotation_angle=45.0)\n",
      "==========================================================================\n",
      "Marker(location=[-3, 110], options=['alt', 'draggable', 'keyboard', 'rise_offset', 'rise_on_hover', 'rotation_angle', 'rotation_origin', 'title', 'z_index_offset'], popup=Popup(auto_close=False, auto_pan_padding=[5, 5], child=HTML(value='<b>Contoh custom popup!</b>'), close_button=False, close_on_escape_key=False, location=[-3, 110], options=['auto_close', 'auto_pan', 'auto_pan_padding', 'auto_pan_padding_bottom_right', 'auto_pan_padding_top_left', 'close_button', 'close_on_escape_key', 'keep_in_view', 'max_height', 'max_width', 'min_width']), rotation_angle=45.0)\n"
     ]
    },
    {
     "data": {
      "application/vnd.jupyter.widget-view+json": {
       "model_id": "a49509efb16a41cea4295df32b657306",
       "version_major": 2,
       "version_minor": 0
      },
      "text/plain": [
       "Map(bottom=4353.0, center=[-0.3, 101], controls=(ZoomControl(options=['position', 'zoom_in_text', 'zoom_in_tit…"
      ]
     },
     "metadata": {},
     "output_type": "display_data"
    }
   ],
   "source": [
    "from ipyleaflet import Marker, Popup\n",
    "\n",
    "# buat marker\n",
    "marker = Marker(location=(-3, 110), rotation_angle=45 )\n",
    "print(marker)\n",
    "# buat pop up\n",
    "popup = Popup(location=(-3, 110), \n",
    "              child=widgets.HTML(value=\"<b>Contoh custom popup!</b>\"), \n",
    "                                    close_button=False,\n",
    "                                    auto_close=False,\n",
    "                                    close_on_escape_key=False\n",
    "        )\n",
    "\n",
    "# tambahkan popup pada object marker \n",
    "marker.popup = popup\n",
    "print('==========================================================================')\n",
    "print(marker)\n",
    "# tambahkan marker pada peta\n",
    "m.add(marker)\n",
    "display(m)"
   ]
  },
  {
   "cell_type": "markdown",
   "id": "83c2b861-3d10-441a-b38a-d64bd253d0a0",
   "metadata": {},
   "source": [
    "# Remove layer\n",
    "\n",
    "Selain bisa menambahkan, kita juga bisa menghapus layer seperti di dalam dookumentasi berikut (https://ipyleaflet.readthedocs.io/en/latest/map_and_basemaps/map.html#ipyleaflet.Map.remove)"
   ]
  },
  {
   "cell_type": "code",
   "execution_count": 7,
   "id": "8a728cf0-d609-42ba-99b3-823bf11a5349",
   "metadata": {},
   "outputs": [
    {
     "data": {
      "application/vnd.jupyter.widget-view+json": {
       "model_id": "a49509efb16a41cea4295df32b657306",
       "version_major": 2,
       "version_minor": 0
      },
      "text/plain": [
       "Map(bottom=4353.0, center=[-0.3076157096439005, 100.986328125], controls=(ZoomControl(options=['position', 'zo…"
      ]
     },
     "metadata": {},
     "output_type": "display_data"
    }
   ],
   "source": [
    "m.remove(marker)\n",
    "display(m)"
   ]
  },
  {
   "cell_type": "markdown",
   "id": "f9e7add5-5a5b-4d27-bec1-2802fab94409",
   "metadata": {},
   "source": [
    "# Membuat Geometri \n",
    "\n",
    "sama seperti seelumnya di dalam ipyleafet kita bisa membuat geometry **marker(point), polyline, polygon, rectagle, dan lingkaran.** "
   ]
  },
  {
   "cell_type": "code",
   "execution_count": 8,
   "id": "9feb9b20-9c21-45e6-bbf2-4d9687a3e389",
   "metadata": {},
   "outputs": [
    {
     "name": "stdout",
     "output_type": "stream",
     "text": [
      "Polyline(color='blue', fill=False, locations=[(0.5, 114.5), (1.5, 115.5), (2.5, 116.5)], options=['color', 'dash_array', 'draggable', 'fill', 'fill_color', 'fill_opacity', 'line_cap', 'line_join', 'no_clip', 'opacity', 'pointer_events', 'smooth_factor', 'stroke', 'transform', 'weight'])\n"
     ]
    },
    {
     "data": {
      "application/vnd.jupyter.widget-view+json": {
       "model_id": "a49509efb16a41cea4295df32b657306",
       "version_major": 2,
       "version_minor": 0
      },
      "text/plain": [
       "Map(bottom=4353.0, center=[-0.3076157096439005, 100.986328125], controls=(ZoomControl(options=['position', 'zo…"
      ]
     },
     "metadata": {},
     "output_type": "display_data"
    }
   ],
   "source": [
    "from ipyleaflet import Polyline, Polygon, Rectangle, Circle, CircleMarker, TileLayer\n",
    "\n",
    "polyline = Polyline(locations=[\n",
    "    (0.5, 114.5), (1.5, 115.5), (2.5, 116.5)\n",
    "], color=\"blue\", fill=False)\n",
    "print(polyline)\n",
    "\n",
    "multipolygon = Polygon(locations=[\n",
    "    [(0.5, 114.5), (-0.5, 115.5), (-2.5, 116.5)],\n",
    "    [(3.5, 117.5), (4.5, 118.5), (-0.5, 119.5)]\n",
    "], color=\"green\", fill_color=\"green\")\n",
    "\n",
    "rectangle = Rectangle(bounds=((0.5, 110.5), (2.5, 112.5)), color=\"red\", fill_color=\"red\")\n",
    "\n",
    "circle = Circle(location=(0.5, 114.5), radius=50000, color=\"purple\", fill_color=\"purple\")\n",
    "\n",
    "circle_marker = CircleMarker(location=(-2, 114.5), radius=20, color=\"orange\", fill_color=\"orange\")\n",
    "\n",
    "m.add_layer(polyline)\n",
    "m.add_layer(multipolygon)\n",
    "m.add_layer(rectangle)\n",
    "m.add_layer(circle)\n",
    "m.add_layer(circle_marker)\n",
    "\n",
    "display(m)"
   ]
  },
  {
   "cell_type": "markdown",
   "id": "75ce121e-783d-41ca-8e5f-70533af2c955",
   "metadata": {},
   "source": [
    "# Selective remove"
   ]
  },
  {
   "cell_type": "code",
   "execution_count": 9,
   "id": "0f6c76a0-71ba-4a6f-89c3-2341ac133a6f",
   "metadata": {},
   "outputs": [
    {
     "data": {
      "application/vnd.jupyter.widget-view+json": {
       "model_id": "a49509efb16a41cea4295df32b657306",
       "version_major": 2,
       "version_minor": 0
      },
      "text/plain": [
       "Map(bottom=4353.0, center=[-0.3076157096439005, 100.986328125], controls=(ZoomControl(options=['position', 'zo…"
      ]
     },
     "metadata": {},
     "output_type": "display_data"
    }
   ],
   "source": [
    "for layer in m.layers:\n",
    "        if not isinstance(layer, (TileLayer, Rectangle)):\n",
    "            m.remove(layer)\n",
    "display(m)"
   ]
  },
  {
   "cell_type": "markdown",
   "id": "54fa6a92-391d-497e-9166-98f650611ac2",
   "metadata": {},
   "source": [
    "# Menggunnakan data geojson"
   ]
  },
  {
   "cell_type": "code",
   "execution_count": 10,
   "id": "67570d52-5427-4e1f-82cd-9e88ff37a022",
   "metadata": {},
   "outputs": [
    {
     "data": {
      "application/vnd.jupyter.widget-view+json": {
       "model_id": "a49509efb16a41cea4295df32b657306",
       "version_major": 2,
       "version_minor": 0
      },
      "text/plain": [
       "Map(bottom=4353.0, center=[-0.3076157096439005, 100.986328125], controls=(ZoomControl(options=['position', 'zo…"
      ]
     },
     "metadata": {},
     "output_type": "display_data"
    }
   ],
   "source": [
    "from ipyleaflet import GeoJSON\n",
    "\n",
    "\n",
    "# Sample GeoJSON data\n",
    "geojson_data = {\n",
    "    \"type\": \"FeatureCollection\",\n",
    "    \"features\": [\n",
    "        {\n",
    "            \"type\": \"Feature\",\n",
    "            \"geometry\": {\n",
    "                \"type\": \"Point\",\n",
    "                \"coordinates\": [114, 0]\n",
    "            },\n",
    "            \"properties\": {\n",
    "                \"prop0\": \"value0\"\n",
    "            }\n",
    "        }\n",
    "    ]\n",
    "}\n",
    "\n",
    "# Create a GeoJSON layer\n",
    "geojson_layer = GeoJSON(data=geojson_data)\n",
    "\n",
    "# Add the GeoJSON layer to the map\n",
    "m.add(geojson_layer)\n",
    "display(m)"
   ]
  },
  {
   "cell_type": "markdown",
   "id": "32bdc369-75b8-4652-a5bf-e8d3a1ba4510",
   "metadata": {},
   "source": [
    "# Menggunakan geodataframe hasil pengolahan geopandas\n",
    "\n",
    "Terdapat dua cara untuk menggunakan geodataframe hasil pengolahan geopandas yang telah dilakukan:\n",
    "1. **Membuat geometry secara manual dari data yang ada.**\n",
    "2. **menggunakan GeoData yang disediakan oleh ipyleaflet.**"
   ]
  },
  {
   "cell_type": "code",
   "execution_count": 12,
   "id": "9b493aea-e21e-4019-96bc-1933fee46d33",
   "metadata": {},
   "outputs": [
    {
     "data": {
      "application/vnd.jupyter.widget-view+json": {
       "model_id": "e4f19d244c4a4952b24cbff0faef205b",
       "version_major": 2,
       "version_minor": 0
      },
      "text/plain": [
       "Map(center=[0.5, 114.5], controls=(ZoomControl(options=['position', 'zoom_in_text', 'zoom_in_title', 'zoom_out…"
      ]
     },
     "metadata": {},
     "output_type": "display_data"
    }
   ],
   "source": [
    "import pandas as pd\n",
    "import geopandas as gpd\n",
    "from ipywidgets import HTML\n",
    "from ipyleaflet import Map, basemaps, GeoData, Popup\n",
    "\n",
    "\n",
    "# Sample data\n",
    "data = {\n",
    "    'City': ['Pontianak', 'Banjarmasin', 'Balikpapan', 'Samarinda'],\n",
    "    'Latitude': [-0.0263, -3.3186, -1.2654, -0.5022],\n",
    "    'Longitude': [109.3425, 114.5908, 116.8312, 117.1536]\n",
    "}\n",
    "\n",
    "# Create a DataFrame\n",
    "df = pd.DataFrame(data)\n",
    "\n",
    "# Convert to GeoDataFrame\n",
    "gdf = gpd.GeoDataFrame(df, geometry=gpd.points_from_xy(df.Longitude, df.Latitude), crs=\"EPSG:4326\")\n",
    "\n",
    "# Initialize the map\n",
    "m = Map(center=(0.5, 114.5), zoom=5, basemap=basemaps.Esri.WorldTopoMap)\n",
    "\n",
    "# Create GeoData layer with popups\n",
    "geo_data = GeoData(\n",
    "    geo_dataframe=gdf,\n",
    "    style={'color': 'blue', 'radius': 8, 'fillColor': 'blue', 'opacity': 0.6, 'weight': 1.9, 'dashArray': '5', 'fillOpacity': 0.6},\n",
    "    hover_style={'fillColor': 'red', 'fillOpacity': 0.2},\n",
    "    point_style={'radius': 5, 'color': 'red', 'fillOpacity': 0.8, 'fillColor': 'blue', 'weight': 3},\n",
    "    name='Cities'\n",
    ")\n",
    "\n",
    "m.add_layer(geo_data)\n",
    "\n",
    "# Display the map\n",
    "display(m)"
   ]
  },
  {
   "cell_type": "code",
   "execution_count": 13,
   "id": "bb822eee-385e-48b5-816a-3b269be0e011",
   "metadata": {},
   "outputs": [
    {
     "data": {
      "application/vnd.jupyter.widget-view+json": {
       "model_id": "87b7df3616ca4af9bb95d9dbadbb412f",
       "version_major": 2,
       "version_minor": 0
      },
      "text/plain": [
       "Map(center=[0, 117.5], controls=(ZoomControl(options=['position', 'zoom_in_text', 'zoom_in_title', 'zoom_out_t…"
      ]
     },
     "metadata": {},
     "output_type": "display_data"
    }
   ],
   "source": [
    "m.clear()\n",
    "\n",
    "# Initialize the map\n",
    "m = Map(center=(0, 117.5), zoom=5, basemap=basemaps.Esri.WorldTopoMap)\n",
    "\n",
    "# Function to create popups\n",
    "def create_popup(city_name):\n",
    "    html = HTML()\n",
    "    html.value = f\"<b>{city_name}</b>\"\n",
    "    return Popup(child=html, close_button=False, auto_close=False, close_on_escape_key=False)\n",
    "\n",
    "# Add markers with popups to the map\n",
    "for idx, row in gdf.iterrows():\n",
    "    marker = Marker(location=(row['Latitude'], row['Longitude']), draggable=False)\n",
    "    popup = create_popup(row['City'])\n",
    "    marker.popup = popup\n",
    "    m.add_layer(marker)\n",
    "\n",
    "# Display the map\n",
    "display(m)"
   ]
  },
  {
   "cell_type": "code",
   "execution_count": null,
   "id": "172c46b1-954d-493e-97dd-9bfc037bee76",
   "metadata": {},
   "outputs": [],
   "source": []
  }
 ],
 "metadata": {
  "kernelspec": {
   "display_name": "Python 3 (ipykernel)",
   "language": "python",
   "name": "python3"
  },
  "language_info": {
   "codemirror_mode": {
    "name": "ipython",
    "version": 3
   },
   "file_extension": ".py",
   "mimetype": "text/x-python",
   "name": "python",
   "nbconvert_exporter": "python",
   "pygments_lexer": "ipython3",
   "version": "3.12.5"
  }
 },
 "nbformat": 4,
 "nbformat_minor": 5
}
